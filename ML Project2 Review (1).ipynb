{
 "cells": [
  {
   "cell_type": "code",
   "execution_count": 311,
   "id": "05c3da72",
   "metadata": {},
   "outputs": [],
   "source": [
    "import pandas as pd\n",
    "import numpy as np\n",
    "import matplotlib.pyplot as plt\n",
    "import seaborn as sns\n",
    "import re\n",
    "import nltk\n",
    "import string\n",
    "\n"
   ]
  },
  {
   "cell_type": "code",
   "execution_count": 312,
   "id": "1e264edb",
   "metadata": {},
   "outputs": [],
   "source": [
    "df = pd.read_csv(\"review.csv\")"
   ]
  },
  {
   "cell_type": "code",
   "execution_count": 313,
   "id": "a28e05fc",
   "metadata": {},
   "outputs": [
    {
     "data": {
      "text/html": [
       "<div>\n",
       "<style scoped>\n",
       "    .dataframe tbody tr th:only-of-type {\n",
       "        vertical-align: middle;\n",
       "    }\n",
       "\n",
       "    .dataframe tbody tr th {\n",
       "        vertical-align: top;\n",
       "    }\n",
       "\n",
       "    .dataframe thead th {\n",
       "        text-align: right;\n",
       "    }\n",
       "</style>\n",
       "<table border=\"1\" class=\"dataframe\">\n",
       "  <thead>\n",
       "    <tr style=\"text-align: right;\">\n",
       "      <th></th>\n",
       "      <th>Review</th>\n",
       "      <th>Lable</th>\n",
       "    </tr>\n",
       "  </thead>\n",
       "  <tbody>\n",
       "    <tr>\n",
       "      <th>0</th>\n",
       "      <td>Wow... Loved this place.</td>\n",
       "      <td>1</td>\n",
       "    </tr>\n",
       "    <tr>\n",
       "      <th>1</th>\n",
       "      <td>Crust is not good.</td>\n",
       "      <td>0</td>\n",
       "    </tr>\n",
       "    <tr>\n",
       "      <th>2</th>\n",
       "      <td>Not tasty and the texture was just nasty.</td>\n",
       "      <td>0</td>\n",
       "    </tr>\n",
       "    <tr>\n",
       "      <th>3</th>\n",
       "      <td>Stopped by during the late May bank holiday of...</td>\n",
       "      <td>1</td>\n",
       "    </tr>\n",
       "    <tr>\n",
       "      <th>4</th>\n",
       "      <td>The selection on the menu was great and so wer...</td>\n",
       "      <td>1</td>\n",
       "    </tr>\n",
       "  </tbody>\n",
       "</table>\n",
       "</div>"
      ],
      "text/plain": [
       "                                              Review  Lable\n",
       "0                           Wow... Loved this place.      1\n",
       "1                                 Crust is not good.      0\n",
       "2          Not tasty and the texture was just nasty.      0\n",
       "3  Stopped by during the late May bank holiday of...      1\n",
       "4  The selection on the menu was great and so wer...      1"
      ]
     },
     "execution_count": 313,
     "metadata": {},
     "output_type": "execute_result"
    }
   ],
   "source": [
    "df.head(5)"
   ]
  },
  {
   "cell_type": "code",
   "execution_count": 314,
   "id": "1b1636f7",
   "metadata": {},
   "outputs": [
    {
     "name": "stdout",
     "output_type": "stream",
     "text": [
      "<class 'pandas.core.frame.DataFrame'>\n",
      "RangeIndex: 1000 entries, 0 to 999\n",
      "Data columns (total 2 columns):\n",
      " #   Column   Non-Null Count  Dtype \n",
      "---  ------   --------------  ----- \n",
      " 0    Review  1000 non-null   object\n",
      " 1   Lable    1000 non-null   int64 \n",
      "dtypes: int64(1), object(1)\n",
      "memory usage: 15.8+ KB\n"
     ]
    }
   ],
   "source": [
    "df.info()"
   ]
  },
  {
   "cell_type": "code",
   "execution_count": 315,
   "id": "5d02d1cf",
   "metadata": {},
   "outputs": [
    {
     "data": {
      "text/plain": [
       "(1000, 2)"
      ]
     },
     "execution_count": 315,
     "metadata": {},
     "output_type": "execute_result"
    }
   ],
   "source": [
    "df.shape"
   ]
  },
  {
   "cell_type": "code",
   "execution_count": 316,
   "id": "01394347",
   "metadata": {},
   "outputs": [],
   "source": [
    "#Checking Duplicated Values "
   ]
  },
  {
   "cell_type": "code",
   "execution_count": 317,
   "id": "18d0fc73",
   "metadata": {
    "scrolled": true
   },
   "outputs": [
    {
     "data": {
      "text/plain": [
       "6"
      ]
     },
     "execution_count": 317,
     "metadata": {},
     "output_type": "execute_result"
    }
   ],
   "source": [
    "df.duplicated().sum()"
   ]
  },
  {
   "cell_type": "code",
   "execution_count": 318,
   "id": "3bd69928",
   "metadata": {},
   "outputs": [],
   "source": [
    "#removing Duplicated Values"
   ]
  },
  {
   "cell_type": "code",
   "execution_count": 319,
   "id": "49009d8e",
   "metadata": {},
   "outputs": [],
   "source": [
    "df = df.drop_duplicates()"
   ]
  },
  {
   "cell_type": "code",
   "execution_count": 320,
   "id": "15351560",
   "metadata": {},
   "outputs": [
    {
     "data": {
      "text/plain": [
       "0"
      ]
     },
     "execution_count": 320,
     "metadata": {},
     "output_type": "execute_result"
    }
   ],
   "source": [
    "df.duplicated().sum()"
   ]
  },
  {
   "cell_type": "code",
   "execution_count": 321,
   "id": "9abd9c98",
   "metadata": {},
   "outputs": [],
   "source": [
    "#Checking Null Values"
   ]
  },
  {
   "cell_type": "code",
   "execution_count": 322,
   "id": "58a81e72",
   "metadata": {},
   "outputs": [
    {
     "data": {
      "text/plain": [
       "0"
      ]
     },
     "execution_count": 322,
     "metadata": {},
     "output_type": "execute_result"
    }
   ],
   "source": [
    "df.isnull().any().sum()"
   ]
  },
  {
   "cell_type": "code",
   "execution_count": 323,
   "id": "d2b4f556",
   "metadata": {},
   "outputs": [],
   "source": [
    "# Checking the data is imbalanced or not"
   ]
  },
  {
   "cell_type": "code",
   "execution_count": 324,
   "id": "be05b29f",
   "metadata": {},
   "outputs": [
    {
     "data": {
      "text/html": [
       "<div>\n",
       "<style scoped>\n",
       "    .dataframe tbody tr th:only-of-type {\n",
       "        vertical-align: middle;\n",
       "    }\n",
       "\n",
       "    .dataframe tbody tr th {\n",
       "        vertical-align: top;\n",
       "    }\n",
       "\n",
       "    .dataframe thead th {\n",
       "        text-align: right;\n",
       "    }\n",
       "</style>\n",
       "<table border=\"1\" class=\"dataframe\">\n",
       "  <thead>\n",
       "    <tr style=\"text-align: right;\">\n",
       "      <th></th>\n",
       "      <th>Review</th>\n",
       "    </tr>\n",
       "    <tr>\n",
       "      <th>Lable</th>\n",
       "      <th></th>\n",
       "    </tr>\n",
       "  </thead>\n",
       "  <tbody>\n",
       "    <tr>\n",
       "      <th>0</th>\n",
       "      <td>496</td>\n",
       "    </tr>\n",
       "    <tr>\n",
       "      <th>1</th>\n",
       "      <td>498</td>\n",
       "    </tr>\n",
       "  </tbody>\n",
       "</table>\n",
       "</div>"
      ],
      "text/plain": [
       "        Review\n",
       "Lable         \n",
       "0          496\n",
       "1          498"
      ]
     },
     "execution_count": 324,
     "metadata": {},
     "output_type": "execute_result"
    }
   ],
   "source": [
    "df.groupby(\"Lable\").count()"
   ]
  },
  {
   "cell_type": "code",
   "execution_count": 325,
   "id": "6c69fd2b",
   "metadata": {},
   "outputs": [
    {
     "data": {
      "text/plain": [
       "<AxesSubplot:xlabel='Lable'>"
      ]
     },
     "execution_count": 325,
     "metadata": {},
     "output_type": "execute_result"
    },
    {
     "data": {
      "image/png": "[encoded data removed]",
      "text/plain": [
       "<Figure size 432x288 with 1 Axes>"
      ]
     },
     "metadata": {
      "needs_background": "light"
     },
     "output_type": "display_data"
    }
   ],
   "source": [
    "df.groupby(\"Lable\").count().plot.bar()"
   ]
  },
  {
   "cell_type": "code",
   "execution_count": 326,
   "id": "1992cab2",
   "metadata": {},
   "outputs": [],
   "source": [
    "# The data is balanced"
   ]
  },
  {
   "cell_type": "code",
   "execution_count": 327,
   "id": "635009d0",
   "metadata": {},
   "outputs": [],
   "source": [
    "df.rename(columns = {\" Review\":\"Review\"},inplace = True)"
   ]
  },
  {
   "cell_type": "code",
   "execution_count": 328,
   "id": "d9cadaed",
   "metadata": {},
   "outputs": [
    {
     "data": {
      "text/html": [
       "<div>\n",
       "<style scoped>\n",
       "    .dataframe tbody tr th:only-of-type {\n",
       "        vertical-align: middle;\n",
       "    }\n",
       "\n",
       "    .dataframe tbody tr th {\n",
       "        vertical-align: top;\n",
       "    }\n",
       "\n",
       "    .dataframe thead th {\n",
       "        text-align: right;\n",
       "    }\n",
       "</style>\n",
       "<table border=\"1\" class=\"dataframe\">\n",
       "  <thead>\n",
       "    <tr style=\"text-align: right;\">\n",
       "      <th></th>\n",
       "      <th>Review</th>\n",
       "      <th>Lable</th>\n",
       "    </tr>\n",
       "  </thead>\n",
       "  <tbody>\n",
       "    <tr>\n",
       "      <th>0</th>\n",
       "      <td>Wow... Loved this place.</td>\n",
       "      <td>1</td>\n",
       "    </tr>\n",
       "  </tbody>\n",
       "</table>\n",
       "</div>"
      ],
      "text/plain": [
       "                     Review  Lable\n",
       "0  Wow... Loved this place.      1"
      ]
     },
     "execution_count": 328,
     "metadata": {},
     "output_type": "execute_result"
    }
   ],
   "source": [
    "df.head(1)"
   ]
  },
  {
   "cell_type": "code",
   "execution_count": 329,
   "id": "51b0ce21",
   "metadata": {},
   "outputs": [],
   "source": [
    "# NLTK Preprocessing"
   ]
  },
  {
   "cell_type": "code",
   "execution_count": 330,
   "id": "147371a8",
   "metadata": {},
   "outputs": [],
   "source": [
    "#removiewing Stopwords"
   ]
  },
  {
   "cell_type": "code",
   "execution_count": 331,
   "id": "d684d54b",
   "metadata": {},
   "outputs": [],
   "source": [
    "from nltk.corpus import stopwords\n",
    "stop_words = set(stopwords.words('english'))\n",
    "stop_words.add('http')\n",
    "def remove_stopwords(text):\n",
    "    return \" \".join([word for word in str(text).split() if word not in stop_words])\n",
    "df['Review'] = df['Review'].apply(lambda x: remove_stopwords(x))"
   ]
  },
  {
   "cell_type": "code",
   "execution_count": 332,
   "id": "6012857c",
   "metadata": {},
   "outputs": [
    {
     "data": {
      "text/plain": [
       "0                                    Wow... Loved place.\n",
       "1                                            Crust good.\n",
       "2                               Not tasty texture nasty.\n",
       "3      Stopped late May bank holiday Rick Steve recom...\n",
       "4                       The selection menu great prices.\n",
       "                             ...                        \n",
       "995                 I think food flavor texture lacking.\n",
       "996                             Appetite instantly gone.\n",
       "997                   Overall I impressed would go back.\n",
       "998    The whole experience underwhelming, I think we...\n",
       "999    Then, I wasted enough life there, poured salt ...\n",
       "Name: Review, Length: 994, dtype: object"
      ]
     },
     "execution_count": 332,
     "metadata": {},
     "output_type": "execute_result"
    }
   ],
   "source": [
    "df[\"Review\"]"
   ]
  },
  {
   "cell_type": "code",
   "execution_count": 333,
   "id": "a059fa50",
   "metadata": {},
   "outputs": [],
   "source": [
    "# Stemming"
   ]
  },
  {
   "cell_type": "code",
   "execution_count": 334,
   "id": "88408f0c",
   "metadata": {},
   "outputs": [],
   "source": [
    "from nltk.stem import PorterStemmer\n",
    "stemmer = PorterStemmer()\n",
    "def stem_words(text):\n",
    "    return \" \".join([stemmer.stem(word) for word in text.split()])\n",
    "df[\"Review\"] = df[\"Review\"].apply(lambda x: stem_words(x))\n"
   ]
  },
  {
   "cell_type": "code",
   "execution_count": 335,
   "id": "00a6714e",
   "metadata": {},
   "outputs": [
    {
     "data": {
      "text/plain": [
       "0                                     wow... love place.\n",
       "1                                            crust good.\n",
       "2                                not tasti textur nasty.\n",
       "3      stop late may bank holiday rick steve recommen...\n",
       "4                          the select menu great prices.\n",
       "                             ...                        \n",
       "995                  i think food flavor textur lacking.\n",
       "996                              appetit instantli gone.\n",
       "997                      overal i impress would go back.\n",
       "998    the whole experi underwhelming, i think we'll ...\n",
       "999    then, i wast enough life there, pour salt woun...\n",
       "Name: Review, Length: 994, dtype: object"
      ]
     },
     "execution_count": 335,
     "metadata": {},
     "output_type": "execute_result"
    }
   ],
   "source": [
    "df[\"Review\"]"
   ]
  },
  {
   "cell_type": "code",
   "execution_count": 336,
   "id": "77dc6c3a",
   "metadata": {},
   "outputs": [],
   "source": [
    "# Removing words with digits"
   ]
  },
  {
   "cell_type": "code",
   "execution_count": 337,
   "id": "e2987deb",
   "metadata": {},
   "outputs": [],
   "source": [
    "df['Review'] = df['Review'].apply(lambda x: re.sub('W*dw*','',x))"
   ]
  },
  {
   "cell_type": "code",
   "execution_count": 338,
   "id": "38afd051",
   "metadata": {},
   "outputs": [],
   "source": [
    "# Lemitization"
   ]
  },
  {
   "cell_type": "code",
   "execution_count": 339,
   "id": "5d4d44b8",
   "metadata": {},
   "outputs": [],
   "source": [
    "from nltk.stem import WordNetLemmatizer\n",
    "lemmatizer = WordNetLemmatizer()\n",
    "def lemmatize_words(text):\n",
    "    return \" \".join([lemmatizer.lemmatize(word) for word in text.split()])\n",
    "df[\"Review\"] = df[\"Review\"].apply(lambda text: lemmatize_words(text))"
   ]
  },
  {
   "cell_type": "code",
   "execution_count": 340,
   "id": "8b0940e0",
   "metadata": {},
   "outputs": [
    {
     "data": {
      "text/html": [
       "<div>\n",
       "<style scoped>\n",
       "    .dataframe tbody tr th:only-of-type {\n",
       "        vertical-align: middle;\n",
       "    }\n",
       "\n",
       "    .dataframe tbody tr th {\n",
       "        vertical-align: top;\n",
       "    }\n",
       "\n",
       "    .dataframe thead th {\n",
       "        text-align: right;\n",
       "    }\n",
       "</style>\n",
       "<table border=\"1\" class=\"dataframe\">\n",
       "  <thead>\n",
       "    <tr style=\"text-align: right;\">\n",
       "      <th></th>\n",
       "      <th>Review</th>\n",
       "      <th>Lable</th>\n",
       "    </tr>\n",
       "  </thead>\n",
       "  <tbody>\n",
       "    <tr>\n",
       "      <th>0</th>\n",
       "      <td>wow... love place.</td>\n",
       "      <td>1</td>\n",
       "    </tr>\n",
       "    <tr>\n",
       "      <th>1</th>\n",
       "      <td>crust goo.</td>\n",
       "      <td>0</td>\n",
       "    </tr>\n",
       "    <tr>\n",
       "      <th>2</th>\n",
       "      <td>not tasti textur nasty.</td>\n",
       "      <td>0</td>\n",
       "    </tr>\n",
       "    <tr>\n",
       "      <th>3</th>\n",
       "      <td>stop late may bank holiay rick steve recommen ...</td>\n",
       "      <td>1</td>\n",
       "    </tr>\n",
       "    <tr>\n",
       "      <th>4</th>\n",
       "      <td>the select menu great prices.</td>\n",
       "      <td>1</td>\n",
       "    </tr>\n",
       "  </tbody>\n",
       "</table>\n",
       "</div>"
      ],
      "text/plain": [
       "                                              Review  Lable\n",
       "0                                 wow... love place.      1\n",
       "1                                         crust goo.      0\n",
       "2                            not tasti textur nasty.      0\n",
       "3  stop late may bank holiay rick steve recommen ...      1\n",
       "4                      the select menu great prices.      1"
      ]
     },
     "execution_count": 340,
     "metadata": {},
     "output_type": "execute_result"
    }
   ],
   "source": [
    "df.head(5)"
   ]
  },
  {
   "cell_type": "code",
   "execution_count": 341,
   "id": "e9103756",
   "metadata": {},
   "outputs": [],
   "source": [
    "# Removing Punctuations"
   ]
  },
  {
   "cell_type": "code",
   "execution_count": 342,
   "id": "b3de05f1",
   "metadata": {},
   "outputs": [],
   "source": [
    "punctuations = !#$%&'()*+,-./:;<=>?@[\\]^_`{|}~'\n",
    "df['Review'] = df['Review'].apply(lambda x: re.sub('[%s]' % re.escape(string.punctuation), '' , x))"
   ]
  },
  {
   "cell_type": "code",
   "execution_count": 343,
   "id": "c6ec0442",
   "metadata": {},
   "outputs": [
    {
     "data": {
      "text/html": [
       "<div>\n",
       "<style scoped>\n",
       "    .dataframe tbody tr th:only-of-type {\n",
       "        vertical-align: middle;\n",
       "    }\n",
       "\n",
       "    .dataframe tbody tr th {\n",
       "        vertical-align: top;\n",
       "    }\n",
       "\n",
       "    .dataframe thead th {\n",
       "        text-align: right;\n",
       "    }\n",
       "</style>\n",
       "<table border=\"1\" class=\"dataframe\">\n",
       "  <thead>\n",
       "    <tr style=\"text-align: right;\">\n",
       "      <th></th>\n",
       "      <th>Review</th>\n",
       "      <th>Lable</th>\n",
       "    </tr>\n",
       "  </thead>\n",
       "  <tbody>\n",
       "    <tr>\n",
       "      <th>0</th>\n",
       "      <td>wow love place</td>\n",
       "      <td>1</td>\n",
       "    </tr>\n",
       "    <tr>\n",
       "      <th>1</th>\n",
       "      <td>crust goo</td>\n",
       "      <td>0</td>\n",
       "    </tr>\n",
       "    <tr>\n",
       "      <th>2</th>\n",
       "      <td>not tasti textur nasty</td>\n",
       "      <td>0</td>\n",
       "    </tr>\n",
       "    <tr>\n",
       "      <th>3</th>\n",
       "      <td>stop late may bank holiay rick steve recommen ...</td>\n",
       "      <td>1</td>\n",
       "    </tr>\n",
       "    <tr>\n",
       "      <th>4</th>\n",
       "      <td>the select menu great prices</td>\n",
       "      <td>1</td>\n",
       "    </tr>\n",
       "  </tbody>\n",
       "</table>\n",
       "</div>"
      ],
      "text/plain": [
       "                                              Review  Lable\n",
       "0                                     wow love place      1\n",
       "1                                          crust goo      0\n",
       "2                             not tasti textur nasty      0\n",
       "3  stop late may bank holiay rick steve recommen ...      1\n",
       "4                       the select menu great prices      1"
      ]
     },
     "execution_count": 343,
     "metadata": {},
     "output_type": "execute_result"
    }
   ],
   "source": [
    "df.head(5)"
   ]
  },
  {
   "cell_type": "code",
   "execution_count": 344,
   "id": "ca12f5de",
   "metadata": {},
   "outputs": [],
   "source": [
    "# Converting REview into BOW\n"
   ]
  },
  {
   "cell_type": "code",
   "execution_count": 345,
   "id": "343e4749",
   "metadata": {},
   "outputs": [],
   "source": [
    "corpus = []\n",
    "for i in df[\"Review\"]:\n",
    "    corpus.append(i)"
   ]
  },
  {
   "cell_type": "code",
   "execution_count": 346,
   "id": "8f974648",
   "metadata": {},
   "outputs": [
    {
     "data": {
      "text/plain": [
       "['wow love place',\n",
       " 'crust goo',\n",
       " 'not tasti textur nasty',\n",
       " 'stop late may bank holiay rick steve recommen love it',\n",
       " 'the select menu great prices',\n",
       " 'now i get angri i want amn pho',\n",
       " 'honeslti tast that fresh',\n",
       " 'the potato like rubber coul tell mae ahea time kept warmer',\n",
       " 'the fri great too',\n",
       " 'a great touch',\n",
       " 'servic prompt',\n",
       " 'woul go back',\n",
       " 'the cashier care ever i say still en wayyy overprice',\n",
       " 'i tri cape co ravoli chicken cranberrymmmm',\n",
       " 'i isgust i pretti sure human hair',\n",
       " 'i shock sign inic cash only',\n",
       " 'highli recommene',\n",
       " 'waitress littl slow service',\n",
       " 'thi place worth time let alon vegas',\n",
       " 'like all',\n",
       " 'the burritto blah',\n",
       " 'the foo amazing',\n",
       " 'servic also cute',\n",
       " 'i coul care less the interior beautiful',\n",
       " 'so performe',\n",
       " 'that rightth re velvet cakeohhh stuff goo',\n",
       " 'name',\n",
       " 'thi hole wall great mexican street tacos frienli staff',\n",
       " 'took hour get foo 4 tabl restaur foo luke warm our sever run aroun like total overwhelme',\n",
       " 'the worst salmon sashimi',\n",
       " 'also combo like burger fries beer 23 ecent eal',\n",
       " 'thi like final blow',\n",
       " 'i foun place acci i coul happier',\n",
       " 'seem like goo quick place grab bite familiar pub foo favor look elsewhere',\n",
       " 'overall i like place lot',\n",
       " 'the reeem qualiti restaur inexpensive',\n",
       " 'ampl portion goo prices',\n",
       " 'poor service waiter mae feel like i stupi everi time came table',\n",
       " 'my first visit hiro elight',\n",
       " 'servic sucks',\n",
       " 'the shrimp tener moist',\n",
       " 'there eal goo enough woul rag establish again',\n",
       " 'har jug whether sie goo gross melt styrofoam want eat fear get sick',\n",
       " 'on posit note server attent provi great service',\n",
       " 'frozen puck isgust worst peopl behin register',\n",
       " 'the thing i like prime rib essert section',\n",
       " 'it ba foo amn generic',\n",
       " 'the burger goo beef cook right',\n",
       " 'if want sanich go firehouse',\n",
       " 'my sie greek sala greek res tasty pita hummu refreshing',\n",
       " 'we orer uck rare pink tener insi nice char outsie',\n",
       " 'he came run u realiz husban left sunglass table',\n",
       " 'their chow mein goo',\n",
       " 'they horribl attitu towar customers talk one custom enjoy foo',\n",
       " 'the portion huge',\n",
       " 'love itfrienli servers great foo woner imagin menu',\n",
       " 'the heart attack grill owntown vega absolut flatlin excus restaurant',\n",
       " 'not much seafoo like 5 string pasta bottom',\n",
       " 'the sala right amount sauc power scallop perfectli cooke',\n",
       " 'the rip banana rippe petrifi tasteless',\n",
       " 'at least think refil water i struggl wave 10 minutes',\n",
       " 'thi place receiv star appetizers',\n",
       " 'the cocktail hanma elicious',\n",
       " 'we efinit go back again',\n",
       " 'we gla foun place',\n",
       " 'great foo service huge portion give militari iscount',\n",
       " 'alway great time o gringos',\n",
       " 'upatew back secon time still amaz',\n",
       " 'we got foo appar never hear salt batter fish chewy',\n",
       " 'a great way finish great',\n",
       " 'the eal inclu 5 tast 2 rinks jeff went beyon expecte',\n",
       " 'name',\n",
       " 'the servic meh',\n",
       " 'it took 30 min get milkshake noth chocol milk',\n",
       " 'i guess i known place woul suck insi excalibur i use common sense',\n",
       " 'the scallop ish quit appal valu well',\n",
       " '2 time  veri ba custom servic ',\n",
       " 'the sweet potato fri goo season well',\n",
       " 'toay secon time iv lunch buffet pretti goo',\n",
       " 'there much goo foo vega i feel cheat wast eat opportun go rice company',\n",
       " 'come like experienc unerwhelm relationship parti cant wait person ask break up',\n",
       " 'walk place smell like ol greas trap 2 other eating',\n",
       " 'the turkey roast beef blan',\n",
       " 'thi place it',\n",
       " 'the pan cake everyon rave tast like sugari isast tailor palat six year ol',\n",
       " 'i love pho spring roll oh yummi try',\n",
       " 'the poor batter meat ratio mae chicken tener unsatisfying',\n",
       " 'all i say foo amazing',\n",
       " 'omelet ie for',\n",
       " 'everyth fresh elicious',\n",
       " 'in summary larg isappoint ine experience',\n",
       " 'it like realli sexi parti mouth outrag flirt hottest person party',\n",
       " 'never har rock casino before will never ever step forwar in it again',\n",
       " 'best breakfast buffet',\n",
       " 'say bye bye tip lay',\n",
       " 'well never go again',\n",
       " 'will back again',\n",
       " 'foo arriv quickly',\n",
       " 'it goo',\n",
       " 'on sie cafe serv realli goo foo',\n",
       " 'our server fantast foun wife love roast garlic bone marrow a extra meal anoth marrow go',\n",
       " 'the goo thing waiter help kept bloi mary coming',\n",
       " 'best buffet town price cannot beat it',\n",
       " 'i love mussel cook wine reuction uck tener potato ish elicious',\n",
       " 'thi one better buffet i to',\n",
       " 'so went tigerlilli fantast afternoon',\n",
       " 'the foo elicious barten attent person an got great eal',\n",
       " 'the ambienc woner music playing',\n",
       " 'will go back next trip out',\n",
       " 'sooooo goo',\n",
       " 'real sushi lovers let honest  yama goo',\n",
       " 'at least 40min pas u orer foo arriving busy',\n",
       " 'thi realli fantast thai restaur efinit worth visit',\n",
       " 'nice spici tener',\n",
       " 'goo prices',\n",
       " 'check out',\n",
       " 'it pretti gross',\n",
       " 'iv better atmosphere',\n",
       " 'kin har mess steak i',\n",
       " 'although i much like look soun place actual experi bit isappointing',\n",
       " 'i know place manag serv blanest foo i ever eaten prepar inian cuisine',\n",
       " 'worst servic boot least worries',\n",
       " 'servic fine waitress frienly',\n",
       " 'the guy steaks steak love son steak best worst place sai best steak he ever eaten',\n",
       " 'we thought ventur away get goo sushi place realli hit spot night',\n",
       " 'host staff were lack better wor bitches',\n",
       " 'blan not like place number reason i want wast time ba reviewing ill leav that',\n",
       " 'phenomen foo servic ambiance',\n",
       " 'i return',\n",
       " 'efinit worth ventur strip pork belly return next time im vegas',\n",
       " 'thi place way overpr meiocr foo',\n",
       " 'penn voka excellent',\n",
       " 'they goo select foo inclu massiv meatloaf sanich crispi chicken wrap elish tuna melt tasti burgers',\n",
       " 'the manag rue',\n",
       " 'elici nyc bagels goo select cream cheese real lox caper even',\n",
       " 'great subway fact goo come everi subway meet expectations',\n",
       " 'i serious solo breakfast here',\n",
       " 'thi one best bar foo vegas',\n",
       " 'he extrem rue really mani restaur i woul love ine weeken vegas',\n",
       " 'my rink never empti mae realli great menu suggestions',\n",
       " 'ont it',\n",
       " 'the waiter help frienli rare check us',\n",
       " 'my husban i ate lunch isappoint foo service',\n",
       " 'an re curri much bamboo shoot tasti me',\n",
       " 'nice blanket moz top feel like one cover subpar foo',\n",
       " 'the bathroom clean place well ecorate',\n",
       " 'the menu alway changing foo qualiti go  servic extrem slow',\n",
       " 'the servic littl slow  consi serv 3 peopl server foo come slow pace',\n",
       " 'i give 2 thumb',\n",
       " 'we watch waiter pay lot attent tabl ignor us',\n",
       " 'my fiancé i came mil ay greet seat right away',\n",
       " 'thi great restaur manalay bay',\n",
       " 'we wait forti five minut vain',\n",
       " 'crostini came sala stale',\n",
       " 'some highlight  great qualiti nigiri here',\n",
       " 'staff frienli joint alway clean',\n",
       " 'iffer cut piec ay still woner tener well well flavore',\n",
       " 'i orer voooo pasta first time i realli excel pasta sinc go gluten free sever year ago',\n",
       " 'place goo',\n",
       " 'unfortunately must hit bakeri leftov ay everyth orer stale',\n",
       " 'i came back toay sinc reloc still impresse',\n",
       " 'i seat immeiately',\n",
       " 'their menu iverse reason price',\n",
       " 'avoi cost',\n",
       " 'restaur alway full never wait',\n",
       " 'elicious',\n",
       " 'thi place hansown one best place eat phoenix metro area',\n",
       " 'so go look goo foo',\n",
       " 'iv never treat ba',\n",
       " 'bacon hella salty',\n",
       " 'we also orer spinach avocao sala ingrei sa res liter zero taste',\n",
       " 'thi realli vega fine ine use be right menu han lai price liste',\n",
       " 'the waitress frienly',\n",
       " 'lory khao soi ish miss curri lovers',\n",
       " 'everyth menu terrif also thrill mae amaz accommo vegetarian aughter',\n",
       " 'perhap i caught night jug reviews im inspir go back',\n",
       " 'the servic leav lot esire',\n",
       " 'the atmospher moern hip maintain touch coziness',\n",
       " 'not weekli haunt efinit place come back everi while',\n",
       " 'we liter sat 20 minut one ask take orer',\n",
       " 'the burger absolut flavor  meat total blan burger overcook charcoal flavor',\n",
       " 'i also eci sen back waitress look like verg heart attack',\n",
       " 'i res treat ruely',\n",
       " 'it probabl irt',\n",
       " 'love place hit spot i want someth healthi lack quantiti flavor',\n",
       " 'i orer lemon raspberri ice cocktail also increible',\n",
       " 'the foo sucke expect suck coul imagine',\n",
       " 'interest ecor',\n",
       " 'what i realli like crepe station',\n",
       " 'also serv hot brea butter home mae potato chip bacon bit topveri origin goo',\n",
       " 'watch prepar elici foo',\n",
       " 'both egg roll fantastic',\n",
       " 'when orer arrive one gyro missing',\n",
       " 'i sala wings ice cream essert left feel quit satisfie',\n",
       " 'im realli sure joey vote best hot og valley reaer phoenix magazine',\n",
       " 'the best place go tasti bowl pho',\n",
       " 'the live music friay total blows',\n",
       " 'iv never insult felt isrespecte',\n",
       " 'veri frienli staff',\n",
       " 'it worth rive',\n",
       " 'i hear goo thing place excee everi hope i coul ream of',\n",
       " 'foo great serivce',\n",
       " 'the warm beer help',\n",
       " 'great brunch spot',\n",
       " 'servic frienli inviting',\n",
       " 'veri goo lunch spot',\n",
       " 'iv live sinc 1979 first an last time iv step foot place',\n",
       " 'the worst experi ever',\n",
       " 'must night place',\n",
       " 'the sie elish  mix mushrooms yukon gol puree white corn  beateous',\n",
       " 'if bug never show i woul given 4 sure sie wall bug climb kitchen',\n",
       " 'for 10 minutes wer wait sala realiz come time soon',\n",
       " 'my frien love salmon tartar',\n",
       " 'wont go back',\n",
       " 'extrem tasty',\n",
       " 'waitress goo though',\n",
       " 'soggi goo',\n",
       " 'the jamaican mojito elicious',\n",
       " 'which small worth price',\n",
       " 'the shower area outsi rinse take full shower unless min nue everyon see',\n",
       " 'the servic bit lacking',\n",
       " 'lobster bisque bussel sprouts risotto filet all nee salt pepperan cours none tables',\n",
       " 'hope boe go busi someon cook come in',\n",
       " 'it either col enough flavor ba',\n",
       " 'i love bacon wrap ates',\n",
       " 'thi unbeliev bargain',\n",
       " 'the folk otto alway make u feel welcom special',\n",
       " 'a mains also uninspire',\n",
       " 'thi place i first pho amazing',\n",
       " 'thi woner experi mae place muststop whenev town again',\n",
       " 'if foo ba enough you enjoy eal worl worstannoy runk people',\n",
       " 'veri fun chef',\n",
       " 'orer oubl cheeseburg  got singl patti fall apart pictur uploae yeah still sucks',\n",
       " 'great place coupl rink watch sport event wall cover tvs',\n",
       " 'if possibl give zero stars they it',\n",
       " 'the escript sai yum yum sauce anoth sai eel sauce yet anoth sai spici mayowel none roll sauc them',\n",
       " 'i say woul harest ecision honestly m ish tast suppos tast amazing',\n",
       " 'if roll eye may staye not sure go back tri again',\n",
       " 'everyon attentive provi excel custom service',\n",
       " 'horribl  wast time money',\n",
       " 'now ish quit flavourful',\n",
       " 'by time sie restaur almost empti excuse',\n",
       " 'it busi either also buil freez col',\n",
       " 'like review sai you pay eat place again',\n",
       " 'rink took close 30 minut come one point',\n",
       " 'serious flavor elights folks',\n",
       " 'much better ayc sushi place i went vegas',\n",
       " 'the light ark enough set moo',\n",
       " 'base subpar servic i receiv effort show gratitu busi i go back',\n",
       " 'owner realli great people',\n",
       " 'there noth privileg working there',\n",
       " 'the greek res creami flavorful',\n",
       " 'overall i think i woul take parent place mae similar complaint i silent felt too',\n",
       " 'now pizza goo peanut sauc tasty',\n",
       " 'we 7 tabl servic pretti fast',\n",
       " 'fantast servic here',\n",
       " 'i well woulv given gofath zero star possible',\n",
       " 'they know make here',\n",
       " 'tough short flavor',\n",
       " 'i hope place stick aroun',\n",
       " 'i bar vegas ever recal charg tap water',\n",
       " 'the restaur atmospher exquisite',\n",
       " 'goo service clean inexpensive boot',\n",
       " 'the seafoo fresh gener portion',\n",
       " 'plus 8 bucks',\n",
       " 'the servic par either',\n",
       " 'thu far visit twice foo absolut elici time',\n",
       " 'just goo i year ago',\n",
       " 'for self proclaim coffe cafe i willi isappointe',\n",
       " 'the veggitarian platter worl',\n",
       " 'you cant go wrong foo here',\n",
       " 'you cant beat that',\n",
       " 'stop place maison ironman frienly kin staff',\n",
       " 'the chef frienli goo job',\n",
       " 'iv better eic boba tea spots even jenni pho',\n",
       " 'i like patio servic outstaning',\n",
       " 'the goat taco skimp meat wow flavor',\n",
       " 'i think',\n",
       " 'i mac sala pretti blan i get again',\n",
       " 'i went bachi burger frien recommen isappointe',\n",
       " 'servic stink here',\n",
       " 'i wait waite',\n",
       " 'thi place qualiti sushi qualiti restaurant',\n",
       " 'i woul efinit recommen wing well pizza',\n",
       " 'great pizza salas',\n",
       " 'thing went wrong  they burn saganaki',\n",
       " 'we wait hour breakfast i coul one 100 time better home',\n",
       " 'thi place amazing',\n",
       " 'i hate isagre fellow yelpers husban i isappoint place',\n",
       " 'wait 2 hour  never got either pizza mani aroun u came later i',\n",
       " 'just know slow',\n",
       " 'the staff great foo elish incre beer selection',\n",
       " 'i live neighborhoo i isappoint i back here conveni location',\n",
       " 'i know pull pork coul soooo elicious',\n",
       " 'you get incre fresh fish prepar care',\n",
       " 'befor i go i gave 1 star rate plea know thir time eat bachi burger write review',\n",
       " 'i love fact everyth menu worth it',\n",
       " 'never i ine place',\n",
       " 'the foo excel servic goo',\n",
       " 'goo beer  rink select goo foo selection',\n",
       " 'plea stay away shrimp stir fri nooles',\n",
       " 'the potato chip orer sa i coul probabl count mani chip box probabl aroun 12',\n",
       " 'foo realli boring',\n",
       " 'goo servicecheck',\n",
       " 'thi greei corpor never see anoth ime me',\n",
       " 'will never ever go back',\n",
       " 'a much i like go back i cant get pas atroci servic never return',\n",
       " 'in summer ine charm outoor patio  elightful',\n",
       " 'i expect goo',\n",
       " 'fantast foo',\n",
       " 'she orer toast english muffin came untoaste',\n",
       " 'the foo goo',\n",
       " 'never go back',\n",
       " 'great foo price high qualiti hous mae',\n",
       " 'the bu boy han rue',\n",
       " 'by point frien i basic figur place joke min make publicli louli known',\n",
       " 'back goo bbq lighter fare reason price tell public back ol ways',\n",
       " 'an consi two u left full happi 20 cant go wrong',\n",
       " 'all brea mae inhouse',\n",
       " 'the ownsi service',\n",
       " 'also fri without oubt worst fri iv ever ha',\n",
       " 'servic except foo goo reviews',\n",
       " 'a coupl month later i return amaz meal',\n",
       " 'favorit place town shawarrrrrrma',\n",
       " 'the black eye pea sweet potatoes unreal',\n",
       " 'you isappointe',\n",
       " 'they coul serv vinaigrett may make better overal ish still goo',\n",
       " 'i go far mani place iv never seen restaur serv 1 egg breakfast especi 400',\n",
       " 'when mom i got home immei got sick bite sala',\n",
       " 'the server pleasant eal alway honor pizza hut coupons',\n",
       " 'both truli unbeliev goo i gla went back',\n",
       " 'we fantast service plea atmosphere',\n",
       " 'everyth gross',\n",
       " 'i love place',\n",
       " 'great servic foo',\n",
       " 'first  bathroom locat irty seat cover replenish  plain yucky',\n",
       " 'the burger i got gol stanar 17 burger kin isappointe',\n",
       " 'omg foo elicioso',\n",
       " 'there noth authent place',\n",
       " 'spaghetti noth special whatsoever',\n",
       " 'of ishes salmon best great',\n",
       " 'the veget fresh sauc feel like authent thai',\n",
       " 'it worth rive tucson',\n",
       " 'the select probabl worst iv seen vegasther none',\n",
       " 'pretti goo beer select too',\n",
       " 'thi place like chipotle better',\n",
       " 'classywarm atmosphere fun fresh appetizers succul steak basebal steak',\n",
       " '5 star brick oven brea app',\n",
       " 'i eaten multipl times time foo elicious',\n",
       " 'we sat anoth ten minut final gave left',\n",
       " 'he terrible',\n",
       " 'everyon treat equal special',\n",
       " 'it take 30 min pancak eggs',\n",
       " 'it elicious',\n",
       " 'on goo sie staff genuin pleasant enthusiast  real treat',\n",
       " 'saly goron ramsey steak place shall sharpli avoi next trip vegas',\n",
       " 'a alway even woner foo elicious',\n",
       " 'best fish iv ever life',\n",
       " 'the bathroom next oor nice',\n",
       " 'the buffet small foo offer blan',\n",
       " 'thi outstan littl restaur best foo i ever taste',\n",
       " 'pretti cool i woul say',\n",
       " 'efinit turn  oubt ill back unless someon el buying',\n",
       " 'server great job hanl larg rowi table',\n",
       " 'i fin wast foo espicable foo',\n",
       " 'my wife lobster bisqu soup lukewarm',\n",
       " 'woul come back i sushi crave vegas',\n",
       " 'the staff great ambianc great',\n",
       " 'he eserv 5 stars',\n",
       " 'i left stomach ach felt sick rest ay',\n",
       " 'they rop ball',\n",
       " 'the ine space tiny elegantli ecor comfortable',\n",
       " 'they custom orer way like usual eggplant green bean stir fry love it',\n",
       " 'an bean rice meiocr best',\n",
       " 'best taco town far',\n",
       " 'i took back money got outta there',\n",
       " 'in interest part town place amazing',\n",
       " 'rue  inconsier management',\n",
       " 'the staff frienly wait time serv horrible one even say hi first 10 minutes',\n",
       " 'i back',\n",
       " 'they great inners',\n",
       " 'the servic outshin  i efinit recommen halibut',\n",
       " 'the foo terrible',\n",
       " 'will never ever go back an have tol mani peopl what ha happene',\n",
       " 'i recommen unless car break front starving',\n",
       " 'i come back everi time im vegas',\n",
       " 'thi place eserv one star 90 foo',\n",
       " 'thi isgrace',\n",
       " 'ef come back bowl next time',\n",
       " 'if want healthi authent ethic foo tri place',\n",
       " 'i continu come lai night an ate night  highli recommen place anyon area',\n",
       " 'i sever time past experi alway great',\n",
       " 'we walk away stuf happi first vega buffet experience',\n",
       " 'servic excel price pretti reason consi vega locat insi crystal shop mall aria',\n",
       " 'to summarize foo increible nay transcenant noth bring joy quit like memori pneumat coniment ispenser',\n",
       " 'im probabl one peopl ever go ian like it',\n",
       " 'ki pizza alway hit lot great sie ish option kios',\n",
       " 'servic perfect famili atmospher nice see',\n",
       " 'cook perfect servic impeccable',\n",
       " 'thi one simpli isappointment',\n",
       " 'overall i isappoint qualiti foo bouchon',\n",
       " 'i account know im get screwe',\n",
       " 'great place eat remin littl mom pop shop san francisco bay area',\n",
       " 'toay first tast bulogi gourmet hot og i tell i ever thought possible',\n",
       " 'left frustrate',\n",
       " 'ill efinit soon again',\n",
       " 'foo realli goo i got full petti fast',\n",
       " 'servic fantastic',\n",
       " 'total wast of time',\n",
       " 'i know kin best ice tea',\n",
       " 'come hungry leav happi stuffe',\n",
       " 'for service i give stars',\n",
       " 'i assur isappointe',\n",
       " 'i take littl ba servic foo sucks',\n",
       " 'gave tri eat crust teeth still sore',\n",
       " 'but i complet gross out',\n",
       " 'i realli enjoy eat here',\n",
       " 'first time go i think i quickli becom regular',\n",
       " 'our server nice even though look littl overwhelm nees stay profession frienli en',\n",
       " 'from inner companion tol meeveryth fresh nice textur taste',\n",
       " 'on groun right next tabl large smeare beensteppeinantrackeeverywher pile green bir poop',\n",
       " 'furthermore cant even fin hour oper website',\n",
       " 'wev tri like place 10 time i think wer one them',\n",
       " 'what mistak was',\n",
       " 'no complaints',\n",
       " 'thi serious goo pizza im expertconnisseur topic',\n",
       " 'waiter jerk',\n",
       " 'strike 2 want rushe',\n",
       " 'these nicest restaur owner iv ever come across',\n",
       " 'i never come again',\n",
       " 'we love biscuits',\n",
       " 'servic quick frienly',\n",
       " 'orer appet took 40 minut pizza anoth 10 minutes',\n",
       " 'so absolutley fantastic',\n",
       " 'it huge awkwar 15lb piec cow 34th gristl fat',\n",
       " 'efinit come back again',\n",
       " 'i like steiner ark feel like bar',\n",
       " 'wow spici elicious',\n",
       " 'if familiar check out',\n",
       " 'ill take busi inner ollar elsewhere',\n",
       " 'i love go back',\n",
       " 'anyway f restaur woner breakfastlunch',\n",
       " 'noth special',\n",
       " 'each ay week iffer eal elicious',\n",
       " 'not mention combin pears almon bacon big winner',\n",
       " 'will back',\n",
       " 'sauc tasteless',\n",
       " 'the foo elici spici enough sure ask spicier prefer way',\n",
       " 'my ribey steak cook perfectli great mesquit flavor',\n",
       " 'i think well go back anytim soon',\n",
       " 'foo gooo',\n",
       " 'i far sushi connoisseur i efinit tell iffer goo foo ba foo certainli ba foo',\n",
       " 'i insulte',\n",
       " 'the last 3 time i lunch ba',\n",
       " 'the chicken wing contain riest chicken meat i ever eaten',\n",
       " 'the foo goo i enjoy everi mouthful enjoy relax venu coupl small famili group etc',\n",
       " 'nargil  i think great',\n",
       " 'best tater tot southwest',\n",
       " 'we love place',\n",
       " 'efinit worth 3 i pai',\n",
       " 'the vanilla ice cream creami smooth profiterol choux pastri fresh enough',\n",
       " 'im az time new spot',\n",
       " 'the manag worst',\n",
       " 'the insi realli quit nice clean',\n",
       " 'the foo outstan price reasonable',\n",
       " 'i think ill run back carly anytim soon foo',\n",
       " 'thi ue fact took 20 minut acknowlege anoth 35 minut get fooan kept forget things',\n",
       " 'love margaritas too',\n",
       " 'thi first vega buffet isappoint',\n",
       " 'veri goo though',\n",
       " 'the one note ventil coul use upgraing',\n",
       " 'great pork sanich',\n",
       " 'ont wast time here',\n",
       " 'total letown i woul much rather go camelback flower shop cartel coffee',\n",
       " 'thir chees frien burger col',\n",
       " 'we enjoy pizza brunch',\n",
       " 'the steak well trim also perfectli cooke',\n",
       " 'we group 70 claim woul 40 hanl u beautifully',\n",
       " 'i love it',\n",
       " 'we ask bill leav without eat bring either',\n",
       " 'thi place jewel la vegas exactli iv hope fin nearli ten year live here',\n",
       " 'seafoo limit boil shrimp crab leg crab leg efinit tast fresh',\n",
       " 'the select foo best',\n",
       " 'elici i absolut back',\n",
       " 'thi small famili restaurant fine ine establishment',\n",
       " 'they toro tartar cavier extraorinari i like thinli slice wagyu white truffle',\n",
       " 'i ont think i back long time',\n",
       " 'it attach ga station rare goo sign',\n",
       " 'how awesom that',\n",
       " 'i back mani time soon',\n",
       " 'the menu much goo stuff coul ecie',\n",
       " 'wors all humili worker right front mebunch horribl name callings',\n",
       " 'conclusion veri fill meals',\n",
       " 'their aili special alway hit group',\n",
       " 'an tragei struck',\n",
       " 'the pancak also realli goo pretti larg that',\n",
       " 'thi first crawfish experience elicious',\n",
       " 'their monster chicken fri steak egg time favorite',\n",
       " 'waitress sweet funny',\n",
       " 'i also tast mom multigrain pumpkin pancak pecan butter amazing fluffy elicious',\n",
       " 'i rather eat airlin foo seriously',\n",
       " 'cant say enough goo thing place',\n",
       " 'the ambianc increible',\n",
       " 'the waitress manag frienly',\n",
       " 'i woul recommen place',\n",
       " 'overal i impress noca',\n",
       " 'my gyro basic lettuc only',\n",
       " 'terribl service',\n",
       " 'thoroughli isappointe',\n",
       " 'i much pasta i love homema han mae pasta thin pizza here',\n",
       " 'give try happi i',\n",
       " 'by far best cheesecur ever ha',\n",
       " 'reason price also',\n",
       " 'everyth perfect night in',\n",
       " 'the foo goo typic bar foo',\n",
       " 'rive get there',\n",
       " 'at first glanc love bakeri cafe  nice ambiance clean frienli staff',\n",
       " 'anyway i think go back there',\n",
       " 'point finger item menu orer isappointe',\n",
       " 'oh thing beauty restaurant',\n",
       " 'if gone go now',\n",
       " 'a greasy unhealthi meal',\n",
       " 'first time might last',\n",
       " 'those burger amazing',\n",
       " 'similarly eliveri man say wor apolog foo 45 minut late',\n",
       " 'an way expensive',\n",
       " 'be sure orer essert even nee pack togo  tiramisu cannoli ie for',\n",
       " 'thi first time i cant wait next',\n",
       " 'the barten also nice',\n",
       " 'everyth goo tasty',\n",
       " 'thi place two thumb upway up',\n",
       " 'the best place vega breakfast just check sat sun',\n",
       " 'if love authent mexican foo want whole bunch interesting yet elici meat choos from nee tri place',\n",
       " 'terribl management',\n",
       " 'an excel new restaur experienc frenchman',\n",
       " 'if zero star i woul give zero stars',\n",
       " 'great steak great sies great wine amaz esserts',\n",
       " 'worst martini ever',\n",
       " 'the steak shrimp opinion best entre gc',\n",
       " 'i opportun toay sampl amaz pizzas',\n",
       " 'we wait thirti minut seat although 8 vacant tabl folk waiting',\n",
       " 'the yellowtail carpaccio melt mouth fresh',\n",
       " 'i tri go back even empty',\n",
       " 'no im go eat potato i foun stranger hair it',\n",
       " 'just spici enough perfect actually',\n",
       " 'last night secon time ine i happi i eci go back',\n",
       " 'even hello right you',\n",
       " 'the essert bit strange',\n",
       " 'my boyfrien i came first time recent trip vega coul plea qualiti foo service',\n",
       " 'i realli recommen place go wrong onut place',\n",
       " 'nice ambiance',\n",
       " 'i woul recommen save room this',\n",
       " 'i guess mayb went night isgraceful',\n",
       " 'however recent experi particular locat goo',\n",
       " 'i know like restaur all someth here',\n",
       " 'avoi thi establishment',\n",
       " 'i think restaur suffer tri har enough',\n",
       " 'all tapa ish elicious',\n",
       " 'i heart place',\n",
       " 'my sala blan vinegrett babi green heart palm',\n",
       " 'after two i felt isgusting',\n",
       " 'a goo time',\n",
       " 'i believ place great stop huge belli hanker sushi',\n",
       " 'gener portion great taste',\n",
       " 'i never go back place never ever recommen place anyone',\n",
       " 'the server went back forth sever times even much are helpe',\n",
       " 'foo elicious',\n",
       " 'an hour seriously',\n",
       " 'i consi theft',\n",
       " 'eew thi locat nee complet overhaul',\n",
       " 'we recent wit poor qualiti manag towar guest well',\n",
       " 'wait wait waite',\n",
       " 'he also came back check u regularly excel service',\n",
       " 'our server super nice check u mani times',\n",
       " 'the pizza tast ol super chewi goo way',\n",
       " 'i swung give tri eepli isappointe',\n",
       " 'servic goo compani better',\n",
       " 'the staff also frienli efficient',\n",
       " 'a service im fan quick serv nice folks',\n",
       " 'boy sucker ry',\n",
       " 'over rate',\n",
       " 'if look authent thai foo go el where',\n",
       " 'their steak 100 recommene',\n",
       " 'after i pull car i wait anoth 15 minut acknowlege',\n",
       " 'great foo great servic clean frienli setting',\n",
       " 'all all i assur ill back',\n",
       " 'i hate thing much cheap qualiti black olives',\n",
       " 'my breakfast perpar great beauti present 3 giant slice toast lightli ust power sugar',\n",
       " 'the ki play area nasty',\n",
       " 'great place fo take eat in',\n",
       " 'the waitress frienli happi accomo veganveggi options',\n",
       " 'omg i felt like i never eaten thai foo ish',\n",
       " 'it extrem crumby pretti tasteless',\n",
       " 'it pale color instea nice char no flavor',\n",
       " 'the crouton also tast homema extra plus',\n",
       " 'i got home see riest amn wing ever',\n",
       " 'itll regular stop trip phoenix',\n",
       " 'i realli enjoy crema café expane i even tol frien best breakfast',\n",
       " 'not goo money',\n",
       " 'i miss wish one philaelphia',\n",
       " 'we got sit fairli fast but en wait 40 minut place orer anoth 30 minut foo arrive',\n",
       " 'they also best chees crisp town',\n",
       " 'goo value great foo great service',\n",
       " 'coulnt ask satisfi meal',\n",
       " 'the foo goo',\n",
       " 'it awesome',\n",
       " 'i want leave',\n",
       " 'we mae rive way north scottsale i one bit isappointe',\n",
       " 'i eat again',\n",
       " 'the owner realli realli nee quit soooooo cheap let wrap freak sanich two paper one',\n",
       " 'i check place coupl year ago impresse',\n",
       " 'the chicken i got efinit reheat ok weg col soggy',\n",
       " 'sorry i get foo anytim soon ',\n",
       " 'an absolut must visit',\n",
       " 'the cow tongu cheek taco amazing',\n",
       " 'my frien like blooi mary',\n",
       " 'espit har i rate businesses actual rare give 1 star',\n",
       " 'they realli want make experi goo one',\n",
       " 'i return',\n",
       " 'i chicken pho tast blan',\n",
       " 'veri isappointing',\n",
       " 'the grill chicken tener yellow saffron seasoning',\n",
       " 'rive thru mean want wait aroun half hour foo somehow en go make u wait wait',\n",
       " 'pretti awesom place',\n",
       " 'ambienc perfect',\n",
       " 'best luck rue noncustom servic focus new management',\n",
       " 'ani granmoth make roast chicken better one',\n",
       " 'i ask multipl time wine list time ignor i went hostess got one myself',\n",
       " 'the staff alway super frienli helpful especi cool bring two small boy baby',\n",
       " 'four star foo  guy blue shirt great vibe  still let u eat ',\n",
       " 'the roast beef sanich tast realli goo',\n",
       " 'same evening i rastic sick',\n",
       " 'highqual chicken chicken caesar sala',\n",
       " 'orer burger rare came well one',\n",
       " 'we promptli greet seate',\n",
       " 'tri go lunch mahouse',\n",
       " 'i proven ea wrong sushi bar qualiti great servic fast foo impeccable',\n",
       " 'after wait hour seate i greatest moos',\n",
       " 'thi goo joint',\n",
       " 'the macaron insan goo',\n",
       " 'im eat here',\n",
       " 'our waiter attentive frienly informative',\n",
       " 'mayb col woul somewhat eible',\n",
       " 'thi place lot promis fail eliver',\n",
       " 'veri ba experience',\n",
       " 'what mistake',\n",
       " 'foo averag best',\n",
       " 'great foo',\n",
       " 'we go back anytim soon',\n",
       " 'veri veri isappoint orer 35 big bay plater',\n",
       " 'great place relax awesom burger beer',\n",
       " 'it perfect sitown famili meal get togeth friens',\n",
       " 'not much flavor them poorli constructe',\n",
       " 'the patio seat comfortable',\n",
       " 'the fri rice ri well',\n",
       " 'han favorit italian restaurant',\n",
       " 'that scream legit booksomethat also pretti rare vegas',\n",
       " 'it fun experience',\n",
       " 'the atmospher great love uo violinist play song requeste',\n",
       " 'i person love hummus pita baklava falafel baba ganoush it amaz eggplant',\n",
       " 'veri convenient sinc stay mgm',\n",
       " 'the owner super frienli staff courteous',\n",
       " 'both great',\n",
       " 'eclect selection',\n",
       " 'the sweet potato tot goo onion ring perfect close i ha',\n",
       " 'the staff attentive',\n",
       " 'an chef gener time even came aroun twice take pictur him',\n",
       " 'the owner use work nobu place realli similar half price',\n",
       " 'googl meiocr i imagin smashburg pop up',\n",
       " 'ont go here',\n",
       " 'i promis isappoint',\n",
       " 'a sushi lover avoi place means',\n",
       " 'what great oubl cheeseburger',\n",
       " 'awesom servic foo',\n",
       " 'a fantast neighborhoo gem ',\n",
       " 'i cant wait go back',\n",
       " 'the plantain worst iv ever taste',\n",
       " 'it great place i highli recommen it',\n",
       " 'servic slow attentive',\n",
       " 'i gave 5 star then im give 5 star now',\n",
       " 'your staff spen time talk me',\n",
       " 'essert panna cotta amazing',\n",
       " 'veri goo foo great atmosphere1',\n",
       " 'amn goo steak',\n",
       " 'total brunch fail',\n",
       " 'price reasonable flavor spot on sauc home mae slaw rench mayo',\n",
       " 'the ecor nice piano music sountrack pleasant',\n",
       " 'the steak amazingrg fillet relleno best seafoo plate ever ha',\n",
       " 'goo foo  goo servic ',\n",
       " 'it absolut amazing',\n",
       " 'i probabl back honest',\n",
       " 'efinit back',\n",
       " 'the sergeant pepper beef sanich auju sauc excel sanich well',\n",
       " 'hawaiian breeze mango magic pineappl elight smoothi iv tri far theyr goo',\n",
       " 'went lunch  servic slow',\n",
       " 'we much say place walk expect amazing quickli isappointe',\n",
       " 'i mortifie',\n",
       " 'neeless say never back again',\n",
       " 'anyways the foo efinit fill all price pay expect more',\n",
       " 'the chip came rip grease mostli eible',\n",
       " 'i realli impress strip steak',\n",
       " 'have go sinc 2007 everi meal awesome',\n",
       " 'our server nice attent serv staff',\n",
       " 'the cashier frienli even brought foo me',\n",
       " 'i work hospit inustri parais valley refrain recommen cibo longer',\n",
       " 'the atmospher fun',\n",
       " 'woul recommen others',\n",
       " 'servic quick even to go orer like like it',\n",
       " 'i mean really get famou fish chip terrible',\n",
       " 'that sai mouth belli still quit please',\n",
       " 'not thing',\n",
       " '2 thumb up',\n",
       " 'if rea plea go there',\n",
       " 'i love grill pizza remin legit italian pizza',\n",
       " 'onli pro  larg seat area nice bar area great simpl rink menu the best brick oven pizza homema ough',\n",
       " 'they realli nice atmosphere',\n",
       " 'tonight i elk filet specialan sucke',\n",
       " 'after one bite i hooke',\n",
       " 'we orer ol classic new ish go time sore isappoint everything',\n",
       " 'cute quaint simple honest',\n",
       " 'the chicken elici season perfect fri outsi moist chicken insie',\n",
       " 'the foo great always compliment chef',\n",
       " 'special thank ylan t recommen orer  all yummi tummy',\n",
       " 'awesom select beer',\n",
       " 'great foo awesom service',\n",
       " 'one nice thing a gratuiti bill sinc parti larger 6 8 expect tip that',\n",
       " 'a fli appl juice a fly',\n",
       " 'the han nan chicken also tasty',\n",
       " 'a service i thought goo',\n",
       " 'the foo bare lukewarm must sit wait server bring us',\n",
       " 'ryan bar efinit one einburgh establish i revisiting',\n",
       " 'nicest chine restaur iv while',\n",
       " 'overall i like foo service',\n",
       " 'they also serv inian naan brea hummu spici pine nut sauc worl',\n",
       " 'probabl never come back recommen it',\n",
       " 'frien pasta  also ba bare touch it',\n",
       " 'tri airport experi tasti foo speey frienli service',\n",
       " 'i love ecor chine calligraphi wall paper',\n",
       " 'never anyth complain here',\n",
       " 'the restaur clean famili restaur feel it',\n",
       " 'it way frie',\n",
       " 'im sure long stoo long enough begin feel awkwarli place',\n",
       " 'when i open sanich i impresse goo way',\n",
       " 'will back',\n",
       " 'there warm feel servic i felt like guest special treat',\n",
       " 'an extens menu provi lot option breakfast',\n",
       " 'i alway orer vegetarian menu inner wie array option choos from',\n",
       " 'i watch price inflate portion get smaller manag attitu grow rapily',\n",
       " 'woner lil tapa ambienc mae feel warm fuzzi insie',\n",
       " 'i got enjoy seafoo sala fabul vinegrette',\n",
       " 'the wonton thin thick chewy almost melt mouth',\n",
       " 'level 5 spici perfect spice overwhelm soup',\n",
       " 'we sat right time server get go fantastic',\n",
       " 'main thing i enjoy crow oler crow aroun mi 30 up',\n",
       " 'when im sie town efinit spot ill hit again',\n",
       " 'i wait 30 minut get rink longer get 2 arepas',\n",
       " 'thi great place eat',\n",
       " 'the jalapeno bacon soooo goo',\n",
       " 'the servic poor that nice',\n",
       " 'foo goo servic goo price goo',\n",
       " 'the place clean foo oh stale',\n",
       " 'the chicken ish ok beef like shoe leather',\n",
       " 'but servic beyon ba',\n",
       " 'im happi here',\n",
       " 'tast like irt',\n",
       " 'one place phoenix i woul efin go back ',\n",
       " 'the block amazing',\n",
       " 'it close house lowkey nonfancy affor prices goo foo',\n",
       " ' both hot  sour  egg flower soup absolut 5 stars',\n",
       " 'my sashimi poor qualiti soggi tasteless',\n",
       " 'great time  famili inner sunay night',\n",
       " 'foo tasti all say real trait hunan style',\n",
       " 'what bother me slow service',\n",
       " 'the flair barten absolut amazing',\n",
       " 'their frozen margarita way sugari taste',\n",
       " 'these goo orer twice',\n",
       " 'so nutshell 1 the restaraunt smell like combin irti fish market sewer',\n",
       " 'my girlfrien veal ba',\n",
       " 'unfortunately goo',\n",
       " 'i pretti satifi experience',\n",
       " 'join club get awesom offer via email',\n",
       " 'perfect someon me like beer ice col case even coler',\n",
       " 'blan flavorless goo way escrib bare tepi meat',\n",
       " 'the chains im fan of beat place easily',\n",
       " 'the nacho must have',\n",
       " 'we come back',\n",
       " 'i mani wor say place everyth pretti well',\n",
       " 'the staff super nice quick even crazi crow owntown juries lawyers court staff',\n",
       " 'great atmosphere frienli fast service',\n",
       " 'when i receiv pita huge lot meat thumb there',\n",
       " 'onc foo arriv meh',\n",
       " 'pay 785 hot og fri look like came ki meal wienerschnitzel iea goo meal',\n",
       " 'the classic main lobster roll fantastic',\n",
       " 'my brother law work mall ate ay guess sick night too',\n",
       " 'so goo i go review place twice  herea tribut place tribut event hel last night',\n",
       " 'the chip salsa realli goo salsa fresh',\n",
       " 'thi place great',\n",
       " 'meiocr foo',\n",
       " 'onc get insi impress place',\n",
       " 'im super piss',\n",
       " 'an servic super frienly',\n",
       " 'whi sa littl veget overcooke',\n",
       " 'thi place nice surprise',\n",
       " 'they golencrispi elicious',\n",
       " 'i high hope place sinc burger cook charcoal grill unfortun tast fell flat way flat',\n",
       " 'i coul eat bruschetta ay evine',\n",
       " 'not singl employe came see ok even nee water refil final serv u foo',\n",
       " 'lastly mozzarella sticks best thing orere',\n",
       " 'the first time i ever came i amaz experience i still tell peopl awesom uck was',\n",
       " 'the server neglig nee mae u feel unwelcome i woul suggest place',\n",
       " 'the servic terribl though',\n",
       " 'thi place overprice consist boba realli overprice',\n",
       " 'it packe',\n",
       " 'i say essert yummy',\n",
       " 'the season fruit fresh white peach puree',\n",
       " 'it kept get wors wors im offici one',\n",
       " 'thi place honestli blown up',\n",
       " 'but i efinit woul eat again',\n",
       " 'o wast money here',\n",
       " 'i love put foo nice plastic contain oppos cram littl paper takeout boxes',\n",
       " 'the crêpe elic thin moist',\n",
       " 'aw service',\n",
       " 'wont ever go again',\n",
       " 'foo qualiti horrible',\n",
       " 'for price i think place i woul much rather gone',\n",
       " 'the servic fair best',\n",
       " 'i love sushi i foun kabuki overprice overhip unerservices',\n",
       " 'o favor stay away ish',\n",
       " 'veri poor service',\n",
       " 'no one tabl thought foo averag worth wait it',\n",
       " 'best servic foo ever maria server goo frienli mae ay',\n",
       " 'they excellent',\n",
       " 'i pai bill tip i felt server terribl job',\n",
       " 'just lunch great experience',\n",
       " 'i never blan foo surpris consi articl rea focus much spice flavor',\n",
       " 'foo way overpr portion fuck small',\n",
       " 'i recent tri caballero i back everi week since',\n",
       " '40 buck hea realli expect better foo',\n",
       " 'the foo came goo pace',\n",
       " 'i ate twice last visit especi enjoy salmon sala',\n",
       " 'we coul believ irti oyster were',\n",
       " 'thi place eserv stars',\n",
       " 'in fact im go roun 4 stars awesome',\n",
       " 'to isbelief ish qualifi worst version foo i ever taste',\n",
       " 'ba ay not i low toler rue custom servic people job nice polite wash ish otherwise',\n",
       " 'potato great biscuit',\n",
       " 'i probabl woul go again',\n",
       " 'so flavor perfect amount heat',\n",
       " 'the price reason servic great',\n",
       " 'the wife hate meal coconut shrimp frien realli enjoy meals either',\n",
       " 'my fella got huevo ranchero look appealing',\n",
       " 'went happi hour great list wines',\n",
       " 'some may say buffet pricey i think get pay place get quit lot',\n",
       " 'i probabl come back here',\n",
       " 'worst fooservic iv while',\n",
       " 'thi place pretti goo nice littl vibe restaurant',\n",
       " 'talk great custom servic cours back',\n",
       " 'hot ish hot col ish close room tempi watch staff prepar foo bare hans gloveseveryth eep fri oil',\n",
       " 'i love fri beans',\n",
       " 'alway pleasur eal him',\n",
       " 'they plethora sala saniches everyth iv tri get seal approval',\n",
       " 'thi place awesom want someth light healthi summer',\n",
       " 'for sushi strip place go',\n",
       " 'the servic great even manag came help table',\n",
       " 'the feel ine room colleg cook cours high class ine servic slow best',\n",
       " 'i start review two stars im eit give one',\n",
       " 'worst sushi ever eat besi costcos',\n",
       " 'all excel restaur highlight great service uniqu menu beauti setting',\n",
       " 'my boyfrien sat bar complet elight experience',\n",
       " 'weir vibe owners',\n",
       " 'there harli meat',\n",
       " 'iv better bagel groceri store',\n",
       " 'go to place gyros',\n",
       " 'i love ownerchef one authent japanes cool ue',\n",
       " 'now burger goo pizza use amaz oughi flavorless',\n",
       " 'i foun six inch long piec wire salsa',\n",
       " 'the servic terrible foo meiocre',\n",
       " 'we efin enjoy ourselves',\n",
       " 'i orer alboniga soup  warm  tast like tomato soup frozen meatballs',\n",
       " 'on three iffer occas i ask well one meium well three time i got blooiest piec meat plate',\n",
       " 'i two bite refus eat anymore',\n",
       " 'the servic extrem slow',\n",
       " 'after 20 minut wait i got table',\n",
       " 'serious killer hot chai latte',\n",
       " 'no allergi warn menu waitress absolut clue meal contain peanuts',\n",
       " 'my boyfrien tri meiterranean chicken sala fell love',\n",
       " 'their rotat beer tap also highlight place',\n",
       " 'price bit concern mellow mushroom',\n",
       " 'worst thai ever',\n",
       " 'if stay vega must get breakfast least once',\n",
       " 'i want first say server great perfect service',\n",
       " 'the pizza select goo',\n",
       " 'i strawberri tea goo',\n",
       " 'highli unprofession rue loyal patron',\n",
       " 'overall great experience',\n",
       " 'spen money elsewhere',\n",
       " 'their regular toast brea equal satisfi occasion pat butter mmmm',\n",
       " 'the buffet bellagio far i anticipate',\n",
       " 'an rink weak people',\n",
       " 'also i feel like chip bought mae house',\n",
       " 'after isappoint inner went elsewher essert',\n",
       " 'the chip sal amazing',\n",
       " 'we returning',\n",
       " 'thi new fav vega buffet spot',\n",
       " 'i serious cannot believ owner mani unexperienc employe run aroun like chicken hea cut off',\n",
       " 'very sa',\n",
       " 'felt insult isrespecte coul talk jug anoth human like that',\n",
       " 'how call steakhous cant properli cook steak i unerstan',\n",
       " 'im impress concept foo',\n",
       " 'the thing i crazi guacamol i like purée',\n",
       " 'there realli noth postinos hope experi better',\n",
       " 'i got foo poison buffet',\n",
       " 'they brought fresh batch fri i think yay someth warm no',\n",
       " 'what shoul hilarious yummi christma eve inner rememb biggest fail entir trip us',\n",
       " 'neeless say i go back anytim soon',\n",
       " 'thi place isgusting',\n",
       " 'everi time i eat here i see care teamwork profession egree',\n",
       " 'the ri style calamari joke',\n",
       " 'however much garlic fonue bare eible',\n",
       " 'i coul bare stomach meal complain busi lunch',\n",
       " 'it ba i lost heart finish it',\n",
       " 'it also took forev bring u check ask it',\n",
       " 'we one make scene restaur i get itefinit lost love one',\n",
       " 'isappoint experience',\n",
       " 'the foo par ennys say goo all',\n",
       " 'if want wait meiocr foo ownright terribl service place you',\n",
       " 'waaaaaayyyyyyyyyi rate i saying',\n",
       " 'we go back',\n",
       " 'the place fairli clean foo simpli worth it',\n",
       " 'thi place lack style',\n",
       " 'the sangria half glass wine full 12 riiculous',\n",
       " 'ont bother come here',\n",
       " 'the meat pretti ry i slice brisket pull pork',\n",
       " 'the buil seem pretti neat bathroom pretti trippy i eat again',\n",
       " 'it equal awful',\n",
       " 'probabl hurri go back',\n",
       " 'slow seat even reservation',\n",
       " 'not goo stretch imagination',\n",
       " 'the cashew cream sauc blan veget unercooke',\n",
       " 'the chipolt ranch ip saus tasteless seem thin water heat',\n",
       " 'it bit sweet realli spici enough lack flavor',\n",
       " 'i veri isappointe',\n",
       " 'thi place horribl way overprice',\n",
       " 'mayb vegetarian fare iv twice i thought averag best',\n",
       " 'it busi know why',\n",
       " 'the tabl outsi also irti lot time worker alway frienli help menu',\n",
       " 'the ambianc feel like buffet setting ouchey inoor garen tea biscuits',\n",
       " 'con spotti service',\n",
       " 'the fri hot neither burger',\n",
       " 'but came back col',\n",
       " 'then foo came out isappoint ensue',\n",
       " 'the real isappoint waiter',\n",
       " 'my husban sai rue even apolog ba foo anything',\n",
       " 'the reason eat woul fill night bing rink get carb stomach',\n",
       " 'insults profoun euchebaggery go outsi smoke break serv soliifi it',\n",
       " 'if someon orer two taco ont think may part custom servic ask combo ala cart',\n",
       " 'she quit isappoint although blame nee place oor',\n",
       " 'after rave review i wait eat herewhat isappointment',\n",
       " 'el taco pretti nasti avoi possible',\n",
       " 'it not har make ecent hamburger',\n",
       " 'but i like it',\n",
       " 'hell i go back',\n",
       " 'wev gotten much better servic pizza place next oor servic receiv restaurant',\n",
       " 'i know big eal place i back yaall',\n",
       " 'i immei sai i want talk manag i want talk guy shot firebal behin bar',\n",
       " 'the ambianc much better',\n",
       " 'unfortunately set u isapppoint entrees',\n",
       " 'the foo goo',\n",
       " 'your server suck wait correction server heimer sucke',\n",
       " 'what happen next prettyoff putting',\n",
       " 'ba caus i know famili owne i realli want like place',\n",
       " 'overpr getting',\n",
       " 'i vomit bathroom mi lunch',\n",
       " 'i kept look time soon becom 35 minutes yet still foo',\n",
       " 'i place eat circumst woul i ever return to top list',\n",
       " 'we start tuna sashimi brownish color obvious fresh',\n",
       " 'foo average',\n",
       " 'it sure beat nacho movi i woul expect littl bit come restaurant',\n",
       " 'all all ha long bay bit flop',\n",
       " 'the problem i charg 1199 sanich bigger subway sub which offer better amount vegetables',\n",
       " 'shrimp when i unwrap i live 12 mile brushfire liter ice col',\n",
       " 'it lack flavor seem unercooke ry',\n",
       " 'it realli impress place close own',\n",
       " 'i woul avoi place stay mirage',\n",
       " 'the refri bean came meal ri crusti foo blan',\n",
       " 'spen money time place else',\n",
       " 'a lai tabl next u foun live green caterpillar in sala',\n",
       " 'present foo awful',\n",
       " 'i cant tell isappoint i was',\n",
       " 'i think foo flavor textur lacking',\n",
       " 'appetit instantli gone',\n",
       " 'overal i impress woul go back',\n",
       " 'the whole experi unerwhelming i think well go ninja sushi next time',\n",
       " 'then i wast enough life there pour salt woun raw time took bring check']"
      ]
     },
     "execution_count": 346,
     "metadata": {},
     "output_type": "execute_result"
    }
   ],
   "source": [
    "corpus"
   ]
  },
  {
   "cell_type": "code",
   "execution_count": 347,
   "id": "3fac8061",
   "metadata": {},
   "outputs": [],
   "source": [
    "from sklearn.feature_extraction.text import CountVectorizer"
   ]
  },
  {
   "cell_type": "code",
   "execution_count": 348,
   "id": "5384bacf",
   "metadata": {},
   "outputs": [],
   "source": [
    "cv = CountVectorizer()\n",
    "BOW = cv.fit_transform(corpus).toarray()"
   ]
  },
  {
   "cell_type": "code",
   "execution_count": 349,
   "id": "c396febe",
   "metadata": {},
   "outputs": [
    {
     "data": {
      "text/plain": [
       "(994, 1878)"
      ]
     },
     "execution_count": 349,
     "metadata": {},
     "output_type": "execute_result"
    }
   ],
   "source": [
    "BOW.shape"
   ]
  },
  {
   "cell_type": "code",
   "execution_count": 350,
   "id": "293bc828",
   "metadata": {},
   "outputs": [],
   "source": [
    "y= df[\"Lable\"]"
   ]
  },
  {
   "cell_type": "code",
   "execution_count": 351,
   "id": "a9f8cd44",
   "metadata": {},
   "outputs": [],
   "source": [
    "x = BOW"
   ]
  },
  {
   "cell_type": "code",
   "execution_count": 363,
   "id": "4f84778f",
   "metadata": {},
   "outputs": [],
   "source": [
    "# splitting values into 80:20"
   ]
  },
  {
   "cell_type": "code",
   "execution_count": 365,
   "id": "fd2b8677",
   "metadata": {},
   "outputs": [],
   "source": [
    "from sklearn.model_selection import train_test_split\n",
    "x_train,x_test,y_train,y_test=train_test_split(x,y,test_size=0.4)"
   ]
  },
  {
   "cell_type": "code",
   "execution_count": 366,
   "id": "b6ec5b93",
   "metadata": {},
   "outputs": [
    {
     "name": "stdout",
     "output_type": "stream",
     "text": [
      "(596, 1878)\n",
      "(596,)\n",
      "(398, 1878)\n",
      "(398,)\n"
     ]
    }
   ],
   "source": [
    "print(x_train.shape)\n",
    "print(y_train.shape)\n",
    "print(x_test.shape)\n",
    "print(y_test.shape)"
   ]
  },
  {
   "cell_type": "code",
   "execution_count": 367,
   "id": "3e450609",
   "metadata": {},
   "outputs": [],
   "source": [
    "# we have large d so we start with logestic regression"
   ]
  },
  {
   "cell_type": "code",
   "execution_count": 368,
   "id": "9af6d193",
   "metadata": {},
   "outputs": [],
   "source": [
    "from sklearn.linear_model import LogisticRegression\n",
    "clf = LogisticRegression(penalty='l2', random_state=0)\n",
    "clf.fit(x_train, y_train)\n",
    "y_pred=clf.predict(x_test)"
   ]
  },
  {
   "cell_type": "code",
   "execution_count": 369,
   "id": "860da242",
   "metadata": {},
   "outputs": [],
   "source": [
    "# classification report"
   ]
  },
  {
   "cell_type": "code",
   "execution_count": 370,
   "id": "6f81ba47",
   "metadata": {},
   "outputs": [
    {
     "name": "stdout",
     "output_type": "stream",
     "text": [
      "              precision    recall  f1-score   support\n",
      "\n",
      "           0       0.77      0.75      0.76       197\n",
      "           1       0.76      0.78      0.77       201\n",
      "\n",
      "    accuracy                           0.76       398\n",
      "   macro avg       0.76      0.76      0.76       398\n",
      "weighted avg       0.76      0.76      0.76       398\n",
      "\n"
     ]
    }
   ],
   "source": [
    "from sklearn.metrics import classification_report\n",
    "print(classification_report(y_test, y_pred, labels=[0,1]))"
   ]
  },
  {
   "cell_type": "code",
   "execution_count": 371,
   "id": "7f11c836",
   "metadata": {},
   "outputs": [],
   "source": [
    "# we got accuracy 76%"
   ]
  },
  {
   "cell_type": "code",
   "execution_count": 372,
   "id": "bf484c81",
   "metadata": {},
   "outputs": [
    {
     "data": {
      "text/plain": [
       "array([[147,  50],\n",
       "       [ 45, 156]], dtype=int64)"
      ]
     },
     "execution_count": 372,
     "metadata": {},
     "output_type": "execute_result"
    }
   ],
   "source": [
    "from sklearn.metrics import confusion_matrix\n",
    "confusion_matrix(y_test, y_pred)"
   ]
  },
  {
   "cell_type": "code",
   "execution_count": 373,
   "id": "54b15023",
   "metadata": {},
   "outputs": [],
   "source": [
    "# Trying Decision tree"
   ]
  },
  {
   "cell_type": "code",
   "execution_count": 374,
   "id": "d13306bf",
   "metadata": {},
   "outputs": [],
   "source": [
    "from sklearn.tree import DecisionTreeClassifier\n",
    "model_dt=DecisionTreeClassifier(criterion = \"gini\",random_state = 100,max_depth=6, min_samples_leaf=8)\n",
    "model_dt.fit(x_train,y_train)\n",
    "dty_pred=model_dt.predict(x_test)"
   ]
  },
  {
   "cell_type": "code",
   "execution_count": 382,
   "id": "536aa66b",
   "metadata": {},
   "outputs": [
    {
     "data": {
      "text/plain": [
       "array([[188,   9],\n",
       "       [120,  81]], dtype=int64)"
      ]
     },
     "execution_count": 382,
     "metadata": {},
     "output_type": "execute_result"
    }
   ],
   "source": [
    "confusion_matrix(y_test, dty_pred)\n"
   ]
  },
  {
   "cell_type": "code",
   "execution_count": 383,
   "id": "eba266a1",
   "metadata": {},
   "outputs": [
    {
     "name": "stdout",
     "output_type": "stream",
     "text": [
      "Accuracy Score for Decision tree is 0.6488294314381271\n"
     ]
    }
   ],
   "source": [
    "print(\"Accuracy Score for Decision tree is\" ,Decisiontree)"
   ]
  },
  {
   "cell_type": "code",
   "execution_count": 376,
   "id": "4d7a12ff",
   "metadata": {},
   "outputs": [],
   "source": [
    "# we get less Accuracy in decision tree as expected"
   ]
  },
  {
   "cell_type": "code",
   "execution_count": 384,
   "id": "aaf5bfac",
   "metadata": {},
   "outputs": [],
   "source": [
    "from sklearn.naive_bayes import GaussianNB\n",
    "gnb = GaussianNB()\n",
    "gnb.fit(x_train,y_train)\n",
    "gnby_pred=model_dt.predict(x_test)"
   ]
  },
  {
   "cell_type": "code",
   "execution_count": 385,
   "id": "e201b9b6",
   "metadata": {},
   "outputs": [],
   "source": [
    "# Trying Naive bays"
   ]
  },
  {
   "cell_type": "code",
   "execution_count": 386,
   "id": "8cc75de4",
   "metadata": {},
   "outputs": [
    {
     "name": "stdout",
     "output_type": "stream",
     "text": [
      "              precision    recall  f1-score   support\n",
      "\n",
      "           0       0.61      0.95      0.74       197\n",
      "           1       0.90      0.40      0.56       201\n",
      "\n",
      "    accuracy                           0.68       398\n",
      "   macro avg       0.76      0.68      0.65       398\n",
      "weighted avg       0.76      0.68      0.65       398\n",
      "\n"
     ]
    }
   ],
   "source": [
    "print(classification_report(y_test, gnby_pred, labels=[0,1]))"
   ]
  },
  {
   "cell_type": "code",
   "execution_count": 387,
   "id": "0750256f",
   "metadata": {},
   "outputs": [],
   "source": [
    "#GNB also have less accuracy"
   ]
  },
  {
   "cell_type": "code",
   "execution_count": 388,
   "id": "47642b5e",
   "metadata": {},
   "outputs": [],
   "source": [
    "# Trying KNN"
   ]
  },
  {
   "cell_type": "code",
   "execution_count": 389,
   "id": "b9191b56",
   "metadata": {},
   "outputs": [],
   "source": [
    "from sklearn.neighbors import KNeighborsClassifier\n",
    "neigh = KNeighborsClassifier(n_neighbors=3)\n",
    "neigh.fit(x_train,y_train)\n",
    "neighy_pred=model_dt.predict(x_test)"
   ]
  },
  {
   "cell_type": "code",
   "execution_count": 393,
   "id": "4b074012",
   "metadata": {},
   "outputs": [
    {
     "name": "stdout",
     "output_type": "stream",
     "text": [
      "              precision    recall  f1-score   support\n",
      "\n",
      "           0       0.95      0.61      0.74       308\n",
      "           1       0.40      0.90      0.56        90\n",
      "\n",
      "    accuracy                           0.68       398\n",
      "   macro avg       0.68      0.76      0.65       398\n",
      "weighted avg       0.83      0.68      0.70       398\n",
      "\n"
     ]
    }
   ],
   "source": [
    "print(classification_report(neighy_pred, y_test, labels=[0,1]))"
   ]
  },
  {
   "cell_type": "code",
   "execution_count": 394,
   "id": "7b83e1cd",
   "metadata": {},
   "outputs": [
    {
     "name": "stdout",
     "output_type": "stream",
     "text": [
      "Accuracy Score for logrstic Regression is 0.7613065326633166\n",
      "Accuracy Score for Decision tree is 0.6758793969849246\n",
      "Accuracy Score for Naive bays is 0.6758793969849246\n",
      "Accuracy Score for KNN is 0.6758793969849246\n"
     ]
    }
   ],
   "source": [
    "from sklearn.metrics import accuracy_score\n",
    "logrstic = accuracy_score(y_test, y_pred)\n",
    "Decisiontree = accuracy_score(y_test, dty_pred)\n",
    "Naivebays = accuracy_score(y_test, gnby_pred)\n",
    "KNN = accuracy_score(y_test, neighy_pred)\n",
    "print(\"Accuracy Score for logrstic Regression is\" ,logrstic)\n",
    "print(\"Accuracy Score for Decision tree is\" ,Decisiontree)\n",
    "print(\"Accuracy Score for Naive bays is\" ,Naivebays)\n",
    "print(\"Accuracy Score for KNN is\" ,KNN)\n"
   ]
  },
  {
   "cell_type": "code",
   "execution_count": 395,
   "id": "827261b3",
   "metadata": {},
   "outputs": [],
   "source": [
    "# only logestic regression has high accuracy so we use hyperparameter tunning"
   ]
  },
  {
   "cell_type": "code",
   "execution_count": 396,
   "id": "8b882da2",
   "metadata": {},
   "outputs": [],
   "source": [
    "# trying SGD classifier"
   ]
  },
  {
   "cell_type": "code",
   "execution_count": 397,
   "id": "1103029c",
   "metadata": {},
   "outputs": [
    {
     "name": "stdout",
     "output_type": "stream",
     "text": [
      "For values of alpha =  1e-05 The log loss is: 0.5192126621404968\n",
      "For values of alpha =  0.0001 The log loss is: 0.5133806294540157\n",
      "For values of alpha =  0.001 The log loss is: 0.49032290396821215\n",
      "For values of alpha =  0.01 The log loss is: 0.5062883452562902\n",
      "For values of alpha =  0.1 The log loss is: 0.5430719782558373\n",
      "For values of alpha =  1 The log loss is: 0.572958351775082\n"
     ]
    }
   ],
   "source": [
    "from sklearn.metrics import log_loss\n",
    "from sklearn.linear_model import SGDClassifier\n",
    "from sklearn.calibration import CalibratedClassifierCV\n",
    "\n",
    "alpha = [10 ** x for x in range(-5, 1)]\n",
    "cv_log_error_array=[]\n",
    "for i in alpha:\n",
    "    clf = SGDClassifier(alpha=i, penalty='l2', loss='log', random_state=42)\n",
    "    clf.fit(x_train, y_train)\n",
    "    sig_clf = CalibratedClassifierCV(clf, method=\"sigmoid\")\n",
    "    sig_clf.fit(x_train, y_train)\n",
    "    predict_y = sig_clf.predict_proba(x_test)\n",
    "    cv_log_error_array.append(log_loss(y_test, predict_y, labels=clf.classes_, eps=1e-15))\n",
    "    print('For values of alpha = ', i, \"The log loss is:\",log_loss(y_test, predict_y, labels=clf.classes_, eps=1e-15))\n"
   ]
  },
  {
   "cell_type": "code",
   "execution_count": 398,
   "id": "c3e27dce",
   "metadata": {},
   "outputs": [],
   "source": [
    "# Find best alpha who min. loss"
   ]
  },
  {
   "cell_type": "code",
   "execution_count": 399,
   "id": "80f16ad9",
   "metadata": {},
   "outputs": [],
   "source": [
    "best_alpha = np.argmin(cv_log_error_array)\n",
    "clf = SGDClassifier(alpha=alpha[best_alpha], penalty='l2', loss='log', random_state=42)\n",
    "clf.fit(x_train, y_train)\n",
    "sig_clf = CalibratedClassifierCV(clf, method=\"sigmoid\")\n",
    "sig_clf.fit(x_train, y_train)\n",
    "predict_y = sig_clf.predict_proba(x_test)"
   ]
  },
  {
   "cell_type": "code",
   "execution_count": 289,
   "id": "88fbe99b",
   "metadata": {},
   "outputs": [
    {
     "data": {
      "text/plain": [
       "0.4958128002836017"
      ]
     },
     "execution_count": 289,
     "metadata": {},
     "output_type": "execute_result"
    }
   ],
   "source": [
    "log_loss(y_test, predict_y)"
   ]
  },
  {
   "cell_type": "code",
   "execution_count": 400,
   "id": "ac4a35d0",
   "metadata": {},
   "outputs": [],
   "source": [
    "# The best Value for alpha is 0.001"
   ]
  },
  {
   "cell_type": "code",
   "execution_count": 401,
   "id": "00aab18d",
   "metadata": {},
   "outputs": [],
   "source": [
    "# using best alpha with logestic regression"
   ]
  },
  {
   "cell_type": "code",
   "execution_count": 402,
   "id": "0e833e8f",
   "metadata": {},
   "outputs": [],
   "source": [
    "clf = SGDClassifier(alpha= 0.001, penalty='l2', loss='log', random_state=0)\n",
    "clf.fit(x_train, y_train)\n",
    "y_pred=clf.predict(x_test)"
   ]
  },
  {
   "cell_type": "code",
   "execution_count": 403,
   "id": "2ebb0d7c",
   "metadata": {},
   "outputs": [
    {
     "name": "stdout",
     "output_type": "stream",
     "text": [
      "              precision    recall  f1-score   support\n",
      "\n",
      "           0       0.77      0.77      0.77       197\n",
      "           1       0.77      0.77      0.77       201\n",
      "\n",
      "    accuracy                           0.77       398\n",
      "   macro avg       0.77      0.77      0.77       398\n",
      "weighted avg       0.77      0.77      0.77       398\n",
      "\n"
     ]
    }
   ],
   "source": [
    "print(classification_report(y_test, y_pred, labels=[0,1]))"
   ]
  },
  {
   "cell_type": "code",
   "execution_count": 404,
   "id": "60066b91",
   "metadata": {},
   "outputs": [],
   "source": [
    "# Accuracy increased by 0.1%"
   ]
  },
  {
   "cell_type": "code",
   "execution_count": 405,
   "id": "d5c501d6",
   "metadata": {},
   "outputs": [],
   "source": [
    "# we can obtain high accuracy by changing BOW to W2V.tfidfW2V"
   ]
  },
  {
   "cell_type": "code",
   "execution_count": null,
   "id": "d0cafef7",
   "metadata": {},
   "outputs": [],
   "source": []
  },
  {
   "cell_type": "code",
   "execution_count": null,
   "id": "0010379d",
   "metadata": {},
   "outputs": [],
   "source": []
  },
  {
   "cell_type": "code",
   "execution_count": null,
   "id": "3dd60dd2",
   "metadata": {},
   "outputs": [],
   "source": []
  }
 ],
 "metadata": {
  "kernelspec": {
   "display_name": "Python 3 (ipykernel)",
   "language": "python",
   "name": "python3"
  },
  "language_info": {
   "codemirror_mode": {
    "name": "ipython",
    "version": 3
   },
   "file_extension": ".py",
   "mimetype": "text/x-python",
   "name": "python",
   "nbconvert_exporter": "python",
   "pygments_lexer": "ipython3",
   "version": "3.10.4"
  }
 },
 "nbformat": 4,
 "nbformat_minor": 5
}
