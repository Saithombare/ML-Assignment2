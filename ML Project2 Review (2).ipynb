{
 "cells": [
  {
   "cell_type": "code",
   "execution_count": 88,
   "id": "05c3da72",
   "metadata": {},
   "outputs": [],
   "source": [
    "import pandas as pd\n",
    "import numpy as np\n",
    "import matplotlib.pyplot as plt\n",
    "import seaborn as sns\n",
    "import re\n",
    "import nltk\n",
    "import string\n",
    "\n"
   ]
  },
  {
   "cell_type": "code",
   "execution_count": 89,
   "id": "1e264edb",
   "metadata": {},
   "outputs": [],
   "source": [
    "df = pd.read_csv(\"review.csv\")"
   ]
  },
  {
   "cell_type": "code",
   "execution_count": 90,
   "id": "a28e05fc",
   "metadata": {},
   "outputs": [
    {
     "data": {
      "text/html": [
       "<div>\n",
       "<style scoped>\n",
       "    .dataframe tbody tr th:only-of-type {\n",
       "        vertical-align: middle;\n",
       "    }\n",
       "\n",
       "    .dataframe tbody tr th {\n",
       "        vertical-align: top;\n",
       "    }\n",
       "\n",
       "    .dataframe thead th {\n",
       "        text-align: right;\n",
       "    }\n",
       "</style>\n",
       "<table border=\"1\" class=\"dataframe\">\n",
       "  <thead>\n",
       "    <tr style=\"text-align: right;\">\n",
       "      <th></th>\n",
       "      <th>Review</th>\n",
       "      <th>Lable</th>\n",
       "    </tr>\n",
       "  </thead>\n",
       "  <tbody>\n",
       "    <tr>\n",
       "      <th>0</th>\n",
       "      <td>Wow... Loved this place.</td>\n",
       "      <td>1</td>\n",
       "    </tr>\n",
       "    <tr>\n",
       "      <th>1</th>\n",
       "      <td>Crust is not good.</td>\n",
       "      <td>0</td>\n",
       "    </tr>\n",
       "    <tr>\n",
       "      <th>2</th>\n",
       "      <td>Not tasty and the texture was just nasty.</td>\n",
       "      <td>0</td>\n",
       "    </tr>\n",
       "    <tr>\n",
       "      <th>3</th>\n",
       "      <td>Stopped by during the late May bank holiday of...</td>\n",
       "      <td>1</td>\n",
       "    </tr>\n",
       "    <tr>\n",
       "      <th>4</th>\n",
       "      <td>The selection on the menu was great and so wer...</td>\n",
       "      <td>1</td>\n",
       "    </tr>\n",
       "  </tbody>\n",
       "</table>\n",
       "</div>"
      ],
      "text/plain": [
       "                                              Review  Lable\n",
       "0                           Wow... Loved this place.      1\n",
       "1                                 Crust is not good.      0\n",
       "2          Not tasty and the texture was just nasty.      0\n",
       "3  Stopped by during the late May bank holiday of...      1\n",
       "4  The selection on the menu was great and so wer...      1"
      ]
     },
     "execution_count": 90,
     "metadata": {},
     "output_type": "execute_result"
    }
   ],
   "source": [
    "df.head(5)"
   ]
  },
  {
   "cell_type": "code",
   "execution_count": 91,
   "id": "1b1636f7",
   "metadata": {},
   "outputs": [
    {
     "name": "stdout",
     "output_type": "stream",
     "text": [
      "<class 'pandas.core.frame.DataFrame'>\n",
      "RangeIndex: 1000 entries, 0 to 999\n",
      "Data columns (total 2 columns):\n",
      " #   Column   Non-Null Count  Dtype \n",
      "---  ------   --------------  ----- \n",
      " 0    Review  1000 non-null   object\n",
      " 1   Lable    1000 non-null   int64 \n",
      "dtypes: int64(1), object(1)\n",
      "memory usage: 15.8+ KB\n"
     ]
    }
   ],
   "source": [
    "df.info()"
   ]
  },
  {
   "cell_type": "code",
   "execution_count": 92,
   "id": "5d02d1cf",
   "metadata": {},
   "outputs": [
    {
     "data": {
      "text/plain": [
       "(1000, 2)"
      ]
     },
     "execution_count": 92,
     "metadata": {},
     "output_type": "execute_result"
    }
   ],
   "source": [
    "df.shape"
   ]
  },
  {
   "cell_type": "code",
   "execution_count": 93,
   "id": "01394347",
   "metadata": {},
   "outputs": [],
   "source": [
    "#Checking Duplicated Values "
   ]
  },
  {
   "cell_type": "code",
   "execution_count": 94,
   "id": "18d0fc73",
   "metadata": {
    "scrolled": true
   },
   "outputs": [
    {
     "data": {
      "text/plain": [
       "6"
      ]
     },
     "execution_count": 94,
     "metadata": {},
     "output_type": "execute_result"
    }
   ],
   "source": [
    "df.duplicated().sum()"
   ]
  },
  {
   "cell_type": "code",
   "execution_count": 95,
   "id": "3bd69928",
   "metadata": {},
   "outputs": [],
   "source": [
    "#removing Duplicated Values"
   ]
  },
  {
   "cell_type": "code",
   "execution_count": 96,
   "id": "49009d8e",
   "metadata": {},
   "outputs": [],
   "source": [
    "df = df.drop_duplicates()"
   ]
  },
  {
   "cell_type": "code",
   "execution_count": 97,
   "id": "15351560",
   "metadata": {},
   "outputs": [
    {
     "data": {
      "text/plain": [
       "0"
      ]
     },
     "execution_count": 97,
     "metadata": {},
     "output_type": "execute_result"
    }
   ],
   "source": [
    "df.duplicated().sum()"
   ]
  },
  {
   "cell_type": "code",
   "execution_count": 98,
   "id": "9abd9c98",
   "metadata": {},
   "outputs": [],
   "source": [
    "#Checking Null Values"
   ]
  },
  {
   "cell_type": "code",
   "execution_count": 99,
   "id": "58a81e72",
   "metadata": {},
   "outputs": [
    {
     "data": {
      "text/plain": [
       "0"
      ]
     },
     "execution_count": 99,
     "metadata": {},
     "output_type": "execute_result"
    }
   ],
   "source": [
    "df.isnull().any().sum()"
   ]
  },
  {
   "cell_type": "code",
   "execution_count": 100,
   "id": "d2b4f556",
   "metadata": {},
   "outputs": [],
   "source": [
    "# Checking the data is imbalanced or not"
   ]
  },
  {
   "cell_type": "code",
   "execution_count": 101,
   "id": "be05b29f",
   "metadata": {},
   "outputs": [
    {
     "data": {
      "text/html": [
       "<div>\n",
       "<style scoped>\n",
       "    .dataframe tbody tr th:only-of-type {\n",
       "        vertical-align: middle;\n",
       "    }\n",
       "\n",
       "    .dataframe tbody tr th {\n",
       "        vertical-align: top;\n",
       "    }\n",
       "\n",
       "    .dataframe thead th {\n",
       "        text-align: right;\n",
       "    }\n",
       "</style>\n",
       "<table border=\"1\" class=\"dataframe\">\n",
       "  <thead>\n",
       "    <tr style=\"text-align: right;\">\n",
       "      <th></th>\n",
       "      <th>Review</th>\n",
       "    </tr>\n",
       "    <tr>\n",
       "      <th>Lable</th>\n",
       "      <th></th>\n",
       "    </tr>\n",
       "  </thead>\n",
       "  <tbody>\n",
       "    <tr>\n",
       "      <th>0</th>\n",
       "      <td>496</td>\n",
       "    </tr>\n",
       "    <tr>\n",
       "      <th>1</th>\n",
       "      <td>498</td>\n",
       "    </tr>\n",
       "  </tbody>\n",
       "</table>\n",
       "</div>"
      ],
      "text/plain": [
       "        Review\n",
       "Lable         \n",
       "0          496\n",
       "1          498"
      ]
     },
     "execution_count": 101,
     "metadata": {},
     "output_type": "execute_result"
    }
   ],
   "source": [
    "df.groupby(\"Lable\").count()"
   ]
  },
  {
   "cell_type": "code",
   "execution_count": 102,
   "id": "6c69fd2b",
   "metadata": {},
   "outputs": [
    {
     "data": {
      "text/plain": [
       "<AxesSubplot:xlabel='Lable'>"
      ]
     },
     "execution_count": 102,
     "metadata": {},
     "output_type": "execute_result"
    },
    {
     "data": {
      "image/png": "[encoded data removed]",
      "text/plain": [
       "<Figure size 432x288 with 1 Axes>"
      ]
     },
     "metadata": {
      "needs_background": "light"
     },
     "output_type": "display_data"
    }
   ],
   "source": [
    "df.groupby(\"Lable\").count().plot.bar()"
   ]
  },
  {
   "cell_type": "code",
   "execution_count": 103,
   "id": "1992cab2",
   "metadata": {},
   "outputs": [],
   "source": [
    "# The data is balanced"
   ]
  },
  {
   "cell_type": "code",
   "execution_count": 104,
   "id": "635009d0",
   "metadata": {},
   "outputs": [],
   "source": [
    "df.rename(columns = {\" Review\":\"Review\"},inplace = True)"
   ]
  },
  {
   "cell_type": "code",
   "execution_count": 105,
   "id": "d9cadaed",
   "metadata": {},
   "outputs": [
    {
     "data": {
      "text/html": [
       "<div>\n",
       "<style scoped>\n",
       "    .dataframe tbody tr th:only-of-type {\n",
       "        vertical-align: middle;\n",
       "    }\n",
       "\n",
       "    .dataframe tbody tr th {\n",
       "        vertical-align: top;\n",
       "    }\n",
       "\n",
       "    .dataframe thead th {\n",
       "        text-align: right;\n",
       "    }\n",
       "</style>\n",
       "<table border=\"1\" class=\"dataframe\">\n",
       "  <thead>\n",
       "    <tr style=\"text-align: right;\">\n",
       "      <th></th>\n",
       "      <th>Review</th>\n",
       "      <th>Lable</th>\n",
       "    </tr>\n",
       "  </thead>\n",
       "  <tbody>\n",
       "    <tr>\n",
       "      <th>0</th>\n",
       "      <td>Wow... Loved this place.</td>\n",
       "      <td>1</td>\n",
       "    </tr>\n",
       "  </tbody>\n",
       "</table>\n",
       "</div>"
      ],
      "text/plain": [
       "                     Review  Lable\n",
       "0  Wow... Loved this place.      1"
      ]
     },
     "execution_count": 105,
     "metadata": {},
     "output_type": "execute_result"
    }
   ],
   "source": [
    "df.head(1)"
   ]
  },
  {
   "cell_type": "code",
   "execution_count": 106,
   "id": "51b0ce21",
   "metadata": {},
   "outputs": [],
   "source": [
    "# NLTK Preprocessing"
   ]
  },
  {
   "cell_type": "code",
   "execution_count": 107,
   "id": "147371a8",
   "metadata": {},
   "outputs": [],
   "source": [
    "#removiewing Stopwords"
   ]
  },
  {
   "cell_type": "code",
   "execution_count": 108,
   "id": "d684d54b",
   "metadata": {},
   "outputs": [],
   "source": [
    "from nltk.corpus import stopwords\n",
    "stop_words = set(stopwords.words('english'))\n",
    "stop_words.add('http')\n",
    "def remove_stopwords(text):\n",
    "    return \" \".join([word for word in str(text).split() if word not in stop_words])\n",
    "df['Review'] = df['Review'].apply(lambda x: remove_stopwords(x))"
   ]
  },
  {
   "cell_type": "code",
   "execution_count": 109,
   "id": "6012857c",
   "metadata": {},
   "outputs": [
    {
     "data": {
      "text/plain": [
       "0                                    Wow... Loved place.\n",
       "1                                            Crust good.\n",
       "2                               Not tasty texture nasty.\n",
       "3      Stopped late May bank holiday Rick Steve recom...\n",
       "4                       The selection menu great prices.\n",
       "                             ...                        \n",
       "995                 I think food flavor texture lacking.\n",
       "996                             Appetite instantly gone.\n",
       "997                   Overall I impressed would go back.\n",
       "998    The whole experience underwhelming, I think we...\n",
       "999    Then, I wasted enough life there, poured salt ...\n",
       "Name: Review, Length: 994, dtype: object"
      ]
     },
     "execution_count": 109,
     "metadata": {},
     "output_type": "execute_result"
    }
   ],
   "source": [
    "df[\"Review\"]"
   ]
  },
  {
   "cell_type": "code",
   "execution_count": 110,
   "id": "a059fa50",
   "metadata": {},
   "outputs": [],
   "source": [
    "# Stemming"
   ]
  },
  {
   "cell_type": "code",
   "execution_count": 111,
   "id": "88408f0c",
   "metadata": {},
   "outputs": [],
   "source": [
    "from nltk.stem import PorterStemmer\n",
    "stemmer = PorterStemmer()\n",
    "def stem_words(text):\n",
    "    return \" \".join([stemmer.stem(word) for word in text.split()])\n",
    "df[\"Review\"] = df[\"Review\"].apply(lambda x: stem_words(x))\n"
   ]
  },
  {
   "cell_type": "code",
   "execution_count": 112,
   "id": "00a6714e",
   "metadata": {},
   "outputs": [
    {
     "data": {
      "text/plain": [
       "0                                     wow... love place.\n",
       "1                                            crust good.\n",
       "2                                not tasti textur nasty.\n",
       "3      stop late may bank holiday rick steve recommen...\n",
       "4                          the select menu great prices.\n",
       "                             ...                        \n",
       "995                  i think food flavor textur lacking.\n",
       "996                              appetit instantli gone.\n",
       "997                      overal i impress would go back.\n",
       "998    the whole experi underwhelming, i think we'll ...\n",
       "999    then, i wast enough life there, pour salt woun...\n",
       "Name: Review, Length: 994, dtype: object"
      ]
     },
     "execution_count": 112,
     "metadata": {},
     "output_type": "execute_result"
    }
   ],
   "source": [
    "df[\"Review\"]"
   ]
  },
  {
   "cell_type": "code",
   "execution_count": 113,
   "id": "77dc6c3a",
   "metadata": {},
   "outputs": [],
   "source": [
    "# Removing words with digits"
   ]
  },
  {
   "cell_type": "code",
   "execution_count": 114,
   "id": "e2987deb",
   "metadata": {},
   "outputs": [],
   "source": [
    "df['Review'] = df['Review'].apply(lambda x: re.sub('W*dw*','',x))"
   ]
  },
  {
   "cell_type": "code",
   "execution_count": 115,
   "id": "38afd051",
   "metadata": {},
   "outputs": [],
   "source": [
    "# Lemitization"
   ]
  },
  {
   "cell_type": "code",
   "execution_count": 116,
   "id": "5d4d44b8",
   "metadata": {},
   "outputs": [],
   "source": [
    "from nltk.stem import WordNetLemmatizer\n",
    "lemmatizer = WordNetLemmatizer()\n",
    "def lemmatize_words(text):\n",
    "    return \" \".join([lemmatizer.lemmatize(word) for word in text.split()])\n",
    "df[\"Review\"] = df[\"Review\"].apply(lambda text: lemmatize_words(text))"
   ]
  },
  {
   "cell_type": "code",
   "execution_count": 117,
   "id": "8b0940e0",
   "metadata": {},
   "outputs": [
    {
     "data": {
      "text/html": [
       "<div>\n",
       "<style scoped>\n",
       "    .dataframe tbody tr th:only-of-type {\n",
       "        vertical-align: middle;\n",
       "    }\n",
       "\n",
       "    .dataframe tbody tr th {\n",
       "        vertical-align: top;\n",
       "    }\n",
       "\n",
       "    .dataframe thead th {\n",
       "        text-align: right;\n",
       "    }\n",
       "</style>\n",
       "<table border=\"1\" class=\"dataframe\">\n",
       "  <thead>\n",
       "    <tr style=\"text-align: right;\">\n",
       "      <th></th>\n",
       "      <th>Review</th>\n",
       "      <th>Lable</th>\n",
       "    </tr>\n",
       "  </thead>\n",
       "  <tbody>\n",
       "    <tr>\n",
       "      <th>0</th>\n",
       "      <td>wow... love place.</td>\n",
       "      <td>1</td>\n",
       "    </tr>\n",
       "    <tr>\n",
       "      <th>1</th>\n",
       "      <td>crust goo.</td>\n",
       "      <td>0</td>\n",
       "    </tr>\n",
       "    <tr>\n",
       "      <th>2</th>\n",
       "      <td>not tasti textur nasty.</td>\n",
       "      <td>0</td>\n",
       "    </tr>\n",
       "    <tr>\n",
       "      <th>3</th>\n",
       "      <td>stop late may bank holiay rick steve recommen ...</td>\n",
       "      <td>1</td>\n",
       "    </tr>\n",
       "    <tr>\n",
       "      <th>4</th>\n",
       "      <td>the select menu great prices.</td>\n",
       "      <td>1</td>\n",
       "    </tr>\n",
       "  </tbody>\n",
       "</table>\n",
       "</div>"
      ],
      "text/plain": [
       "                                              Review  Lable\n",
       "0                                 wow... love place.      1\n",
       "1                                         crust goo.      0\n",
       "2                            not tasti textur nasty.      0\n",
       "3  stop late may bank holiay rick steve recommen ...      1\n",
       "4                      the select menu great prices.      1"
      ]
     },
     "execution_count": 117,
     "metadata": {},
     "output_type": "execute_result"
    }
   ],
   "source": [
    "df.head(5)"
   ]
  },
  {
   "cell_type": "code",
   "execution_count": 118,
   "id": "e9103756",
   "metadata": {},
   "outputs": [],
   "source": [
    "# Removing Punctuations"
   ]
  },
  {
   "cell_type": "code",
   "execution_count": 119,
   "id": "b3de05f1",
   "metadata": {},
   "outputs": [],
   "source": [
    "punctuations = !#$%&'()*+,-./:;<=>?@[\\]^_`{|}~'\n",
    "df['Review'] = df['Review'].apply(lambda x: re.sub('[%s]' % re.escape(string.punctuation), '' , x))"
   ]
  },
  {
   "cell_type": "code",
   "execution_count": 120,
   "id": "c6ec0442",
   "metadata": {},
   "outputs": [
    {
     "data": {
      "text/html": [
       "<div>\n",
       "<style scoped>\n",
       "    .dataframe tbody tr th:only-of-type {\n",
       "        vertical-align: middle;\n",
       "    }\n",
       "\n",
       "    .dataframe tbody tr th {\n",
       "        vertical-align: top;\n",
       "    }\n",
       "\n",
       "    .dataframe thead th {\n",
       "        text-align: right;\n",
       "    }\n",
       "</style>\n",
       "<table border=\"1\" class=\"dataframe\">\n",
       "  <thead>\n",
       "    <tr style=\"text-align: right;\">\n",
       "      <th></th>\n",
       "      <th>Review</th>\n",
       "      <th>Lable</th>\n",
       "    </tr>\n",
       "  </thead>\n",
       "  <tbody>\n",
       "    <tr>\n",
       "      <th>0</th>\n",
       "      <td>wow love place</td>\n",
       "      <td>1</td>\n",
       "    </tr>\n",
       "    <tr>\n",
       "      <th>1</th>\n",
       "      <td>crust goo</td>\n",
       "      <td>0</td>\n",
       "    </tr>\n",
       "    <tr>\n",
       "      <th>2</th>\n",
       "      <td>not tasti textur nasty</td>\n",
       "      <td>0</td>\n",
       "    </tr>\n",
       "    <tr>\n",
       "      <th>3</th>\n",
       "      <td>stop late may bank holiay rick steve recommen ...</td>\n",
       "      <td>1</td>\n",
       "    </tr>\n",
       "    <tr>\n",
       "      <th>4</th>\n",
       "      <td>the select menu great prices</td>\n",
       "      <td>1</td>\n",
       "    </tr>\n",
       "  </tbody>\n",
       "</table>\n",
       "</div>"
      ],
      "text/plain": [
       "                                              Review  Lable\n",
       "0                                     wow love place      1\n",
       "1                                          crust goo      0\n",
       "2                             not tasti textur nasty      0\n",
       "3  stop late may bank holiay rick steve recommen ...      1\n",
       "4                       the select menu great prices      1"
      ]
     },
     "execution_count": 120,
     "metadata": {},
     "output_type": "execute_result"
    }
   ],
   "source": [
    "df.head(5)"
   ]
  },
  {
   "cell_type": "code",
   "execution_count": 121,
   "id": "ca12f5de",
   "metadata": {},
   "outputs": [],
   "source": [
    "# Converting REview into BOW\n"
   ]
  },
  {
   "cell_type": "code",
   "execution_count": 122,
   "id": "343e4749",
   "metadata": {},
   "outputs": [],
   "source": [
    "corpus = []\n",
    "for i in df[\"Review\"]:\n",
    "    corpus.append(i)"
   ]
  },
  {
   "cell_type": "code",
   "execution_count": 123,
   "id": "5edcfeb9",
   "metadata": {},
   "outputs": [
    {
     "name": "stdout",
     "output_type": "stream",
     "text": [
      "['wow love place', 'crust goo', 'not tasti textur nasty', 'stop late may bank holiay rick steve recommen love it', 'the select menu great prices', 'now i get angri i want amn pho', 'honeslti tast that fresh', 'the potato like rubber coul tell mae ahea time kept warmer', 'the fri great too', 'a great touch']\n"
     ]
    }
   ],
   "source": [
    "print(corpus[0:10])"
   ]
  },
  {
   "cell_type": "code",
   "execution_count": 124,
   "id": "3fac8061",
   "metadata": {},
   "outputs": [],
   "source": [
    "from sklearn.feature_extraction.text import CountVectorizer"
   ]
  },
  {
   "cell_type": "code",
   "execution_count": 125,
   "id": "5384bacf",
   "metadata": {},
   "outputs": [],
   "source": [
    "cv = CountVectorizer()\n",
    "BOW = cv.fit_transform(corpus).toarray()"
   ]
  },
  {
   "cell_type": "code",
   "execution_count": 126,
   "id": "c396febe",
   "metadata": {},
   "outputs": [
    {
     "data": {
      "text/plain": [
       "(994, 1878)"
      ]
     },
     "execution_count": 126,
     "metadata": {},
     "output_type": "execute_result"
    }
   ],
   "source": [
    "BOW.shape"
   ]
  },
  {
   "cell_type": "code",
   "execution_count": 127,
   "id": "293bc828",
   "metadata": {},
   "outputs": [],
   "source": [
    "y= df[\"Lable\"]"
   ]
  },
  {
   "cell_type": "code",
   "execution_count": 128,
   "id": "a9f8cd44",
   "metadata": {},
   "outputs": [],
   "source": [
    "x = BOW"
   ]
  },
  {
   "cell_type": "code",
   "execution_count": 129,
   "id": "4f84778f",
   "metadata": {},
   "outputs": [],
   "source": [
    "# splitting values into 70:30"
   ]
  },
  {
   "cell_type": "code",
   "execution_count": 130,
   "id": "fd2b8677",
   "metadata": {},
   "outputs": [],
   "source": [
    "from sklearn.model_selection import train_test_split\n",
    "x_train,x_test,y_train,y_test=train_test_split(x,y,test_size=0.3)"
   ]
  },
  {
   "cell_type": "code",
   "execution_count": 131,
   "id": "b6ec5b93",
   "metadata": {},
   "outputs": [
    {
     "name": "stdout",
     "output_type": "stream",
     "text": [
      "(695, 1878)\n",
      "(695,)\n",
      "(299, 1878)\n",
      "(299,)\n"
     ]
    }
   ],
   "source": [
    "print(x_train.shape)\n",
    "print(y_train.shape)\n",
    "print(x_test.shape)\n",
    "print(y_test.shape)"
   ]
  },
  {
   "cell_type": "code",
   "execution_count": 132,
   "id": "3e450609",
   "metadata": {},
   "outputs": [],
   "source": [
    "# we have large d so we start with logestic regression"
   ]
  },
  {
   "cell_type": "code",
   "execution_count": 134,
   "id": "9af6d193",
   "metadata": {},
   "outputs": [],
   "source": [
    "from sklearn.linear_model import LogisticRegression\n",
    "clf = LogisticRegression(penalty='l2', random_state=0)\n",
    "clf.fit(x_train, y_train)\n",
    "y_pred=clf.predict(x_test)"
   ]
  },
  {
   "cell_type": "code",
   "execution_count": 135,
   "id": "860da242",
   "metadata": {},
   "outputs": [],
   "source": [
    "# classification report"
   ]
  },
  {
   "cell_type": "code",
   "execution_count": 136,
   "id": "6f81ba47",
   "metadata": {},
   "outputs": [
    {
     "name": "stdout",
     "output_type": "stream",
     "text": [
      "              precision    recall  f1-score   support\n",
      "\n",
      "           0       0.74      0.75      0.74       154\n",
      "           1       0.73      0.72      0.73       145\n",
      "\n",
      "    accuracy                           0.74       299\n",
      "   macro avg       0.74      0.74      0.74       299\n",
      "weighted avg       0.74      0.74      0.74       299\n",
      "\n"
     ]
    }
   ],
   "source": [
    "from sklearn.metrics import classification_report\n",
    "print(classification_report(y_test, y_pred, labels=[0,1]))"
   ]
  },
  {
   "cell_type": "code",
   "execution_count": 137,
   "id": "7f11c836",
   "metadata": {},
   "outputs": [],
   "source": [
    "# we got accuracy 74%"
   ]
  },
  {
   "cell_type": "code",
   "execution_count": 138,
   "id": "bf484c81",
   "metadata": {},
   "outputs": [
    {
     "data": {
      "text/plain": [
       "array([[115,  39],\n",
       "       [ 40, 105]], dtype=int64)"
      ]
     },
     "execution_count": 138,
     "metadata": {},
     "output_type": "execute_result"
    }
   ],
   "source": [
    "from sklearn.metrics import confusion_matrix\n",
    "confusion_matrix(y_test, y_pred)"
   ]
  },
  {
   "cell_type": "code",
   "execution_count": 139,
   "id": "54b15023",
   "metadata": {},
   "outputs": [],
   "source": [
    "# Trying Decision tree"
   ]
  },
  {
   "cell_type": "code",
   "execution_count": 168,
   "id": "d13306bf",
   "metadata": {},
   "outputs": [],
   "source": [
    "from sklearn.tree import DecisionTreeClassifier\n",
    "model_dt=DecisionTreeClassifier(criterion = \"gini\",random_state = 100,max_depth=6, min_samples_leaf=8)\n",
    "model_dt.fit(x_train,y_train)\n",
    "dty_pred=model_dt.predict(x_test)"
   ]
  },
  {
   "cell_type": "code",
   "execution_count": 169,
   "id": "536aa66b",
   "metadata": {},
   "outputs": [
    {
     "data": {
      "text/plain": [
       "array([[143,  11],\n",
       "       [ 86,  59]], dtype=int64)"
      ]
     },
     "execution_count": 169,
     "metadata": {},
     "output_type": "execute_result"
    }
   ],
   "source": [
    "confusion_matrix(y_test, dty_pred)\n"
   ]
  },
  {
   "cell_type": "code",
   "execution_count": 170,
   "id": "eba266a1",
   "metadata": {},
   "outputs": [
    {
     "name": "stdout",
     "output_type": "stream",
     "text": [
      "Accuracy Score for Decision tree is 0.6755852842809364\n"
     ]
    }
   ],
   "source": [
    "print(\"Accuracy Score for Decision tree is\" ,Decisiontree)"
   ]
  },
  {
   "cell_type": "code",
   "execution_count": 142,
   "id": "4d7a12ff",
   "metadata": {},
   "outputs": [],
   "source": [
    "# we get less Accuracy in decision tree as expected"
   ]
  },
  {
   "cell_type": "code",
   "execution_count": 143,
   "id": "aaf5bfac",
   "metadata": {},
   "outputs": [],
   "source": [
    "from sklearn.naive_bayes import GaussianNB\n",
    "gnb = GaussianNB()\n",
    "gnb.fit(x_train,y_train)\n",
    "gnby_pred=gnb.predict(x_test)"
   ]
  },
  {
   "cell_type": "code",
   "execution_count": 144,
   "id": "e201b9b6",
   "metadata": {},
   "outputs": [],
   "source": [
    "# Trying Naive bays"
   ]
  },
  {
   "cell_type": "code",
   "execution_count": 145,
   "id": "8cc75de4",
   "metadata": {},
   "outputs": [
    {
     "name": "stdout",
     "output_type": "stream",
     "text": [
      "              precision    recall  f1-score   support\n",
      "\n",
      "           0       0.79      0.49      0.60       154\n",
      "           1       0.61      0.86      0.72       145\n",
      "\n",
      "    accuracy                           0.67       299\n",
      "   macro avg       0.70      0.67      0.66       299\n",
      "weighted avg       0.70      0.67      0.66       299\n",
      "\n"
     ]
    }
   ],
   "source": [
    "print(classification_report(y_test, gnby_pred, labels=[0,1]))"
   ]
  },
  {
   "cell_type": "code",
   "execution_count": 146,
   "id": "0750256f",
   "metadata": {},
   "outputs": [],
   "source": [
    "#GNB also have less accuracy"
   ]
  },
  {
   "cell_type": "code",
   "execution_count": 147,
   "id": "47642b5e",
   "metadata": {},
   "outputs": [],
   "source": [
    "# Trying KNN"
   ]
  },
  {
   "cell_type": "code",
   "execution_count": 148,
   "id": "b9191b56",
   "metadata": {},
   "outputs": [],
   "source": [
    "from sklearn.neighbors import KNeighborsClassifier\n",
    "neigh = KNeighborsClassifier(n_neighbors=3)\n",
    "neigh.fit(x_train,y_train)\n",
    "neighy_pred=neigh.predict(x_test)"
   ]
  },
  {
   "cell_type": "code",
   "execution_count": 149,
   "id": "4b074012",
   "metadata": {},
   "outputs": [
    {
     "name": "stdout",
     "output_type": "stream",
     "text": [
      "              precision    recall  f1-score   support\n",
      "\n",
      "           0       0.50      0.75      0.60       103\n",
      "           1       0.82      0.61      0.70       196\n",
      "\n",
      "    accuracy                           0.66       299\n",
      "   macro avg       0.66      0.68      0.65       299\n",
      "weighted avg       0.71      0.66      0.66       299\n",
      "\n"
     ]
    }
   ],
   "source": [
    "print(classification_report(neighy_pred, y_test, labels=[0,1]))"
   ]
  },
  {
   "cell_type": "code",
   "execution_count": 151,
   "id": "7b83e1cd",
   "metadata": {},
   "outputs": [
    {
     "name": "stdout",
     "output_type": "stream",
     "text": [
      "Accuracy Score for logrstic Regression is 0.7357859531772575\n",
      "Accuracy Score for Decision tree is 0.6755852842809364\n",
      "Accuracy Score for Naive bays is 0.6688963210702341\n",
      "Accuracy Score for KNN is 0.6555183946488294\n"
     ]
    }
   ],
   "source": [
    "from sklearn.metrics import accuracy_score\n",
    "logrstic = accuracy_score(y_test, y_pred)\n",
    "Decisiontree = accuracy_score(y_test, dty_pred)\n",
    "Naivebays = accuracy_score(y_test, gnby_pred)\n",
    "KNN = accuracy_score(y_test, neighy_pred)\n",
    "print(\"Accuracy Score for logrstic Regression is\" ,logrstic)\n",
    "print(\"Accuracy Score for Decision tree is\" ,Decisiontree)\n",
    "print(\"Accuracy Score for Naive bays is\" ,Naivebays)\n",
    "print(\"Accuracy Score for KNN is\" ,KNN)\n"
   ]
  },
  {
   "cell_type": "code",
   "execution_count": 152,
   "id": "827261b3",
   "metadata": {},
   "outputs": [],
   "source": [
    "# only logestic regression has high accuracy so we use hyperparameter tunning"
   ]
  },
  {
   "cell_type": "code",
   "execution_count": 153,
   "id": "8b882da2",
   "metadata": {},
   "outputs": [],
   "source": [
    "# trying SGD classifier"
   ]
  },
  {
   "cell_type": "code",
   "execution_count": 154,
   "id": "1103029c",
   "metadata": {},
   "outputs": [
    {
     "name": "stdout",
     "output_type": "stream",
     "text": [
      "For values of alpha =  1e-05 The log loss is: 0.5457301818551973\n",
      "For values of alpha =  0.0001 The log loss is: 0.5368110839799223\n",
      "For values of alpha =  0.001 The log loss is: 0.5212086955097124\n",
      "For values of alpha =  0.01 The log loss is: 0.51870929010215\n",
      "For values of alpha =  0.1 The log loss is: 0.5380106730492524\n",
      "For values of alpha =  1 The log loss is: 0.5541453402566472\n"
     ]
    }
   ],
   "source": [
    "from sklearn.metrics import log_loss\n",
    "from sklearn.linear_model import SGDClassifier\n",
    "from sklearn.calibration import CalibratedClassifierCV\n",
    "\n",
    "alpha = [10 ** x for x in range(-5, 1)]\n",
    "cv_log_error_array=[]\n",
    "for i in alpha:\n",
    "    clf = SGDClassifier(alpha=i, penalty='l2', loss='log', random_state=42)\n",
    "    clf.fit(x_train, y_train)\n",
    "    sig_clf = CalibratedClassifierCV(clf, method=\"sigmoid\")\n",
    "    sig_clf.fit(x_train, y_train)\n",
    "    predict_y = sig_clf.predict_proba(x_test)\n",
    "    cv_log_error_array.append(log_loss(y_test, predict_y, labels=clf.classes_, eps=1e-15))\n",
    "    print('For values of alpha = ', i, \"The log loss is:\",log_loss(y_test, predict_y, labels=clf.classes_, eps=1e-15))\n"
   ]
  },
  {
   "cell_type": "code",
   "execution_count": 155,
   "id": "c3e27dce",
   "metadata": {},
   "outputs": [],
   "source": [
    "# Find best alpha who min. loss"
   ]
  },
  {
   "cell_type": "code",
   "execution_count": 156,
   "id": "80f16ad9",
   "metadata": {},
   "outputs": [],
   "source": [
    "best_alpha = np.argmin(cv_log_error_array)\n",
    "clf = SGDClassifier(alpha=alpha[best_alpha], penalty='l2', loss='log', random_state=42)\n",
    "clf.fit(x_train, y_train)\n",
    "sig_clf = CalibratedClassifierCV(clf, method=\"sigmoid\")\n",
    "sig_clf.fit(x_train, y_train)\n",
    "predict_y = sig_clf.predict_proba(x_test)"
   ]
  },
  {
   "cell_type": "code",
   "execution_count": 157,
   "id": "88fbe99b",
   "metadata": {},
   "outputs": [
    {
     "data": {
      "text/plain": [
       "0.51870929010215"
      ]
     },
     "execution_count": 157,
     "metadata": {},
     "output_type": "execute_result"
    }
   ],
   "source": [
    "log_loss(y_test, predict_y)"
   ]
  },
  {
   "cell_type": "code",
   "execution_count": 160,
   "id": "ac4a35d0",
   "metadata": {},
   "outputs": [],
   "source": [
    "# The best Value for alpha is 0.01"
   ]
  },
  {
   "cell_type": "code",
   "execution_count": 161,
   "id": "00aab18d",
   "metadata": {},
   "outputs": [],
   "source": [
    "# using best alpha with logestic regression"
   ]
  },
  {
   "cell_type": "code",
   "execution_count": 173,
   "id": "0e833e8f",
   "metadata": {},
   "outputs": [],
   "source": [
    "fclf = SGDClassifier(alpha= 0.01, penalty='l2', loss='log', random_state=0)\n",
    "fclf.fit(x_train, y_train)\n",
    "fy_pred=fclf.predict(x_test)"
   ]
  },
  {
   "cell_type": "code",
   "execution_count": 174,
   "id": "2ebb0d7c",
   "metadata": {},
   "outputs": [
    {
     "name": "stdout",
     "output_type": "stream",
     "text": [
      "              precision    recall  f1-score   support\n",
      "\n",
      "           0       0.76      0.73      0.75       154\n",
      "           1       0.73      0.76      0.74       145\n",
      "\n",
      "    accuracy                           0.75       299\n",
      "   macro avg       0.75      0.75      0.75       299\n",
      "weighted avg       0.75      0.75      0.75       299\n",
      "\n"
     ]
    }
   ],
   "source": [
    "print(classification_report(y_test, fy_pred, labels=[0,1]))"
   ]
  },
  {
   "cell_type": "code",
   "execution_count": 83,
   "id": "60066b91",
   "metadata": {},
   "outputs": [],
   "source": [
    "# Accuracy increased by 0.1%"
   ]
  },
  {
   "cell_type": "code",
   "execution_count": 84,
   "id": "d5c501d6",
   "metadata": {},
   "outputs": [],
   "source": [
    "# we can obtain high accuracy by changing BOW to W2V.tfidfW2V"
   ]
  },
  {
   "cell_type": "code",
   "execution_count": 176,
   "id": "d0cafef7",
   "metadata": {},
   "outputs": [],
   "source": [
    "import pickle\n",
    "filename = 'model2.sav'\n",
    "pickle.dump(fclf, open(filename, 'wb'))"
   ]
  },
  {
   "cell_type": "code",
   "execution_count": null,
   "id": "0010379d",
   "metadata": {},
   "outputs": [],
   "source": []
  },
  {
   "cell_type": "code",
   "execution_count": null,
   "id": "3dd60dd2",
   "metadata": {},
   "outputs": [],
   "source": []
  }
 ],
 "metadata": {
  "kernelspec": {
   "display_name": "Python 3 (ipykernel)",
   "language": "python",
   "name": "python3"
  },
  "language_info": {
   "codemirror_mode": {
    "name": "ipython",
    "version": 3
   },
   "file_extension": ".py",
   "mimetype": "text/x-python",
   "name": "python",
   "nbconvert_exporter": "python",
   "pygments_lexer": "ipython3",
   "version": "3.10.4"
  }
 },
 "nbformat": 4,
 "nbformat_minor": 5
}
